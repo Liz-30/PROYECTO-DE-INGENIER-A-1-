{
  "nbformat": 4,
  "nbformat_minor": 0,
  "metadata": {
    "colab": {
      "provenance": []
    },
    "kernelspec": {
      "name": "python3",
      "display_name": "Python 3"
    },
    "language_info": {
      "name": "python"
    }
  },
  "cells": [
    {
      "cell_type": "markdown",
      "source": [
        "## Obtener la data de ambos archivos 2022 y 2023"
      ],
      "metadata": {
        "id": "bc0pvUmUq4mE"
      }
    },
    {
      "cell_type": "code",
      "source": [
        "# data processing\n",
        "import pandas as pd\n",
        "\n",
        "# Load the data\n",
        "data1 = pd.read_csv(\"https://raw.githubusercontent.com/LuizIgnacio2002/blockColab/main/ad_viz_plotval_data%20(6).csv\")\n",
        "data2 = pd.read_csv(\"https://raw.githubusercontent.com/LuizIgnacio2002/blockColab/main/ad_viz_plotval_data%20(7).csv\")\n",
        "\n",
        "# Print the number of rows in each file\n",
        "print(f\"Number of rows in data1: {len(data1)}\")\n",
        "print(f\"Number of rows in data2: {len(data2)}\")\n",
        "\n",
        "# Combine the data\n",
        "data_df = pd.concat([data1, data2], ignore_index=True)\n",
        "\n",
        "# Print the number of rows in the combined file\n",
        "print(f\"Number of rows in combined data: {len(data_df)}\")\n",
        "\n",
        "# Save the sorted combined data to a new CSV file\n",
        "data_df.to_csv(\"./sample_data/combined_ad_viz_plotval_data.csv\", index=False)\n"
      ],
      "metadata": {
        "colab": {
          "base_uri": "https://localhost:8080/"
        },
        "id": "RUuWCkEEruUF",
        "outputId": "4944548f-a18e-44dd-977d-5c9c6828dfd9"
      },
      "execution_count": null,
      "outputs": [
        {
          "output_type": "stream",
          "name": "stdout",
          "text": [
            "Number of rows in data1: 358\n",
            "Number of rows in data2: 359\n",
            "Number of rows in combined data: 717\n"
          ]
        }
      ]
    },
    {
      "cell_type": "markdown",
      "source": [
        "# Instalando paquetes"
      ],
      "metadata": {
        "id": "Qb-VMC2vi3GO"
      }
    },
    {
      "cell_type": "code",
      "execution_count": null,
      "metadata": {
        "id": "VWSwyGGPhwKO"
      },
      "outputs": [],
      "source": [
        "# Algebra Lineal\n",
        "import numpy as np\n",
        "\n",
        "# procesamiento de datos\n",
        "import pandas as pd\n",
        "\n",
        "# Visualización de datos\n",
        "import seaborn as sns\n",
        "%matplotlib inline\n",
        "from matplotlib import pyplot as plt\n",
        "from matplotlib import style\n",
        "\n",
        "# algorithms\n",
        "from sklearn.linear_model import LinearRegression"
      ]
    },
    {
      "cell_type": "markdown",
      "source": [
        "## Explorando los datos"
      ],
      "metadata": {
        "id": "rM8XgqulLJzW"
      }
    },
    {
      "cell_type": "markdown",
      "source": [
        "Podemos ver que el dataset presenta como variable a \"Date\", por lo que debemos tener cuidado al momento de hacer el split"
      ],
      "metadata": {
        "id": "TzCLSELTOTN0"
      }
    },
    {
      "cell_type": "code",
      "source": [
        "data_df.head(10)"
      ],
      "metadata": {
        "colab": {
          "base_uri": "https://localhost:8080/",
          "height": 620
        },
        "id": "5pqcy1NDNQ6q",
        "outputId": "469c7e2a-de34-4f8e-eb62-d624b9451926"
      },
      "execution_count": null,
      "outputs": [
        {
          "output_type": "execute_result",
          "data": {
            "text/plain": [
              "         Date Source   Site ID  POC  Daily Max 8-hour CO Concentration Units  \\\n",
              "0  01/01/2022    AQS  10730023    2                                0.1   ppm   \n",
              "1  01/02/2022    AQS  10730023    2                                0.2   ppm   \n",
              "2  01/03/2022    AQS  10730023    2                                0.2   ppm   \n",
              "3  01/04/2022    AQS  10730023    2                                0.2   ppm   \n",
              "4  01/05/2022    AQS  10730023    2                                0.5   ppm   \n",
              "5  01/06/2022    AQS  10730023    2                                0.6   ppm   \n",
              "6  01/07/2022    AQS  10730023    2                                0.3   ppm   \n",
              "7  01/08/2022    AQS  10730023    2                                0.3   ppm   \n",
              "8  01/09/2022    AQS  10730023    2                                0.2   ppm   \n",
              "9  01/10/2022    AQS  10730023    2                                0.2   ppm   \n",
              "\n",
              "   Daily AQI Value   Local Site Name  Daily Obs Count  Percent Complete  ...  \\\n",
              "0                1  North Birmingham               19              79.0  ...   \n",
              "1                2  North Birmingham               24             100.0  ...   \n",
              "2                2  North Birmingham               12              50.0  ...   \n",
              "3                2  North Birmingham                4              17.0  ...   \n",
              "4                6  North Birmingham                9              38.0  ...   \n",
              "5                7  North Birmingham               24             100.0  ...   \n",
              "6                3  North Birmingham               24             100.0  ...   \n",
              "7                3  North Birmingham               24             100.0  ...   \n",
              "8                2  North Birmingham               24             100.0  ...   \n",
              "9                2  North Birmingham               12              50.0  ...   \n",
              "\n",
              "   AQS Parameter Description Method Code  CBSA Code              CBSA Name  \\\n",
              "0            Carbon monoxide          93      13820  Birmingham-Hoover, AL   \n",
              "1            Carbon monoxide          93      13820  Birmingham-Hoover, AL   \n",
              "2            Carbon monoxide          93      13820  Birmingham-Hoover, AL   \n",
              "3            Carbon monoxide          93      13820  Birmingham-Hoover, AL   \n",
              "4            Carbon monoxide          93      13820  Birmingham-Hoover, AL   \n",
              "5            Carbon monoxide          93      13820  Birmingham-Hoover, AL   \n",
              "6            Carbon monoxide          93      13820  Birmingham-Hoover, AL   \n",
              "7            Carbon monoxide          93      13820  Birmingham-Hoover, AL   \n",
              "8            Carbon monoxide          93      13820  Birmingham-Hoover, AL   \n",
              "9            Carbon monoxide          93      13820  Birmingham-Hoover, AL   \n",
              "\n",
              "  State FIPS Code    State County FIPS Code     County Site Latitude  \\\n",
              "0               1  Alabama               73  Jefferson     33.553056   \n",
              "1               1  Alabama               73  Jefferson     33.553056   \n",
              "2               1  Alabama               73  Jefferson     33.553056   \n",
              "3               1  Alabama               73  Jefferson     33.553056   \n",
              "4               1  Alabama               73  Jefferson     33.553056   \n",
              "5               1  Alabama               73  Jefferson     33.553056   \n",
              "6               1  Alabama               73  Jefferson     33.553056   \n",
              "7               1  Alabama               73  Jefferson     33.553056   \n",
              "8               1  Alabama               73  Jefferson     33.553056   \n",
              "9               1  Alabama               73  Jefferson     33.553056   \n",
              "\n",
              "   Site Longitude  \n",
              "0         -86.815  \n",
              "1         -86.815  \n",
              "2         -86.815  \n",
              "3         -86.815  \n",
              "4         -86.815  \n",
              "5         -86.815  \n",
              "6         -86.815  \n",
              "7         -86.815  \n",
              "8         -86.815  \n",
              "9         -86.815  \n",
              "\n",
              "[10 rows x 21 columns]"
            ],
            "text/html": [
              "\n",
              "  <div id=\"df-60ef8791-bce2-4088-a00b-d09bab7d4468\" class=\"colab-df-container\">\n",
              "    <div>\n",
              "<style scoped>\n",
              "    .dataframe tbody tr th:only-of-type {\n",
              "        vertical-align: middle;\n",
              "    }\n",
              "\n",
              "    .dataframe tbody tr th {\n",
              "        vertical-align: top;\n",
              "    }\n",
              "\n",
              "    .dataframe thead th {\n",
              "        text-align: right;\n",
              "    }\n",
              "</style>\n",
              "<table border=\"1\" class=\"dataframe\">\n",
              "  <thead>\n",
              "    <tr style=\"text-align: right;\">\n",
              "      <th></th>\n",
              "      <th>Date</th>\n",
              "      <th>Source</th>\n",
              "      <th>Site ID</th>\n",
              "      <th>POC</th>\n",
              "      <th>Daily Max 8-hour CO Concentration</th>\n",
              "      <th>Units</th>\n",
              "      <th>Daily AQI Value</th>\n",
              "      <th>Local Site Name</th>\n",
              "      <th>Daily Obs Count</th>\n",
              "      <th>Percent Complete</th>\n",
              "      <th>...</th>\n",
              "      <th>AQS Parameter Description</th>\n",
              "      <th>Method Code</th>\n",
              "      <th>CBSA Code</th>\n",
              "      <th>CBSA Name</th>\n",
              "      <th>State FIPS Code</th>\n",
              "      <th>State</th>\n",
              "      <th>County FIPS Code</th>\n",
              "      <th>County</th>\n",
              "      <th>Site Latitude</th>\n",
              "      <th>Site Longitude</th>\n",
              "    </tr>\n",
              "  </thead>\n",
              "  <tbody>\n",
              "    <tr>\n",
              "      <th>0</th>\n",
              "      <td>01/01/2022</td>\n",
              "      <td>AQS</td>\n",
              "      <td>10730023</td>\n",
              "      <td>2</td>\n",
              "      <td>0.1</td>\n",
              "      <td>ppm</td>\n",
              "      <td>1</td>\n",
              "      <td>North Birmingham</td>\n",
              "      <td>19</td>\n",
              "      <td>79.0</td>\n",
              "      <td>...</td>\n",
              "      <td>Carbon monoxide</td>\n",
              "      <td>93</td>\n",
              "      <td>13820</td>\n",
              "      <td>Birmingham-Hoover, AL</td>\n",
              "      <td>1</td>\n",
              "      <td>Alabama</td>\n",
              "      <td>73</td>\n",
              "      <td>Jefferson</td>\n",
              "      <td>33.553056</td>\n",
              "      <td>-86.815</td>\n",
              "    </tr>\n",
              "    <tr>\n",
              "      <th>1</th>\n",
              "      <td>01/02/2022</td>\n",
              "      <td>AQS</td>\n",
              "      <td>10730023</td>\n",
              "      <td>2</td>\n",
              "      <td>0.2</td>\n",
              "      <td>ppm</td>\n",
              "      <td>2</td>\n",
              "      <td>North Birmingham</td>\n",
              "      <td>24</td>\n",
              "      <td>100.0</td>\n",
              "      <td>...</td>\n",
              "      <td>Carbon monoxide</td>\n",
              "      <td>93</td>\n",
              "      <td>13820</td>\n",
              "      <td>Birmingham-Hoover, AL</td>\n",
              "      <td>1</td>\n",
              "      <td>Alabama</td>\n",
              "      <td>73</td>\n",
              "      <td>Jefferson</td>\n",
              "      <td>33.553056</td>\n",
              "      <td>-86.815</td>\n",
              "    </tr>\n",
              "    <tr>\n",
              "      <th>2</th>\n",
              "      <td>01/03/2022</td>\n",
              "      <td>AQS</td>\n",
              "      <td>10730023</td>\n",
              "      <td>2</td>\n",
              "      <td>0.2</td>\n",
              "      <td>ppm</td>\n",
              "      <td>2</td>\n",
              "      <td>North Birmingham</td>\n",
              "      <td>12</td>\n",
              "      <td>50.0</td>\n",
              "      <td>...</td>\n",
              "      <td>Carbon monoxide</td>\n",
              "      <td>93</td>\n",
              "      <td>13820</td>\n",
              "      <td>Birmingham-Hoover, AL</td>\n",
              "      <td>1</td>\n",
              "      <td>Alabama</td>\n",
              "      <td>73</td>\n",
              "      <td>Jefferson</td>\n",
              "      <td>33.553056</td>\n",
              "      <td>-86.815</td>\n",
              "    </tr>\n",
              "    <tr>\n",
              "      <th>3</th>\n",
              "      <td>01/04/2022</td>\n",
              "      <td>AQS</td>\n",
              "      <td>10730023</td>\n",
              "      <td>2</td>\n",
              "      <td>0.2</td>\n",
              "      <td>ppm</td>\n",
              "      <td>2</td>\n",
              "      <td>North Birmingham</td>\n",
              "      <td>4</td>\n",
              "      <td>17.0</td>\n",
              "      <td>...</td>\n",
              "      <td>Carbon monoxide</td>\n",
              "      <td>93</td>\n",
              "      <td>13820</td>\n",
              "      <td>Birmingham-Hoover, AL</td>\n",
              "      <td>1</td>\n",
              "      <td>Alabama</td>\n",
              "      <td>73</td>\n",
              "      <td>Jefferson</td>\n",
              "      <td>33.553056</td>\n",
              "      <td>-86.815</td>\n",
              "    </tr>\n",
              "    <tr>\n",
              "      <th>4</th>\n",
              "      <td>01/05/2022</td>\n",
              "      <td>AQS</td>\n",
              "      <td>10730023</td>\n",
              "      <td>2</td>\n",
              "      <td>0.5</td>\n",
              "      <td>ppm</td>\n",
              "      <td>6</td>\n",
              "      <td>North Birmingham</td>\n",
              "      <td>9</td>\n",
              "      <td>38.0</td>\n",
              "      <td>...</td>\n",
              "      <td>Carbon monoxide</td>\n",
              "      <td>93</td>\n",
              "      <td>13820</td>\n",
              "      <td>Birmingham-Hoover, AL</td>\n",
              "      <td>1</td>\n",
              "      <td>Alabama</td>\n",
              "      <td>73</td>\n",
              "      <td>Jefferson</td>\n",
              "      <td>33.553056</td>\n",
              "      <td>-86.815</td>\n",
              "    </tr>\n",
              "    <tr>\n",
              "      <th>5</th>\n",
              "      <td>01/06/2022</td>\n",
              "      <td>AQS</td>\n",
              "      <td>10730023</td>\n",
              "      <td>2</td>\n",
              "      <td>0.6</td>\n",
              "      <td>ppm</td>\n",
              "      <td>7</td>\n",
              "      <td>North Birmingham</td>\n",
              "      <td>24</td>\n",
              "      <td>100.0</td>\n",
              "      <td>...</td>\n",
              "      <td>Carbon monoxide</td>\n",
              "      <td>93</td>\n",
              "      <td>13820</td>\n",
              "      <td>Birmingham-Hoover, AL</td>\n",
              "      <td>1</td>\n",
              "      <td>Alabama</td>\n",
              "      <td>73</td>\n",
              "      <td>Jefferson</td>\n",
              "      <td>33.553056</td>\n",
              "      <td>-86.815</td>\n",
              "    </tr>\n",
              "    <tr>\n",
              "      <th>6</th>\n",
              "      <td>01/07/2022</td>\n",
              "      <td>AQS</td>\n",
              "      <td>10730023</td>\n",
              "      <td>2</td>\n",
              "      <td>0.3</td>\n",
              "      <td>ppm</td>\n",
              "      <td>3</td>\n",
              "      <td>North Birmingham</td>\n",
              "      <td>24</td>\n",
              "      <td>100.0</td>\n",
              "      <td>...</td>\n",
              "      <td>Carbon monoxide</td>\n",
              "      <td>93</td>\n",
              "      <td>13820</td>\n",
              "      <td>Birmingham-Hoover, AL</td>\n",
              "      <td>1</td>\n",
              "      <td>Alabama</td>\n",
              "      <td>73</td>\n",
              "      <td>Jefferson</td>\n",
              "      <td>33.553056</td>\n",
              "      <td>-86.815</td>\n",
              "    </tr>\n",
              "    <tr>\n",
              "      <th>7</th>\n",
              "      <td>01/08/2022</td>\n",
              "      <td>AQS</td>\n",
              "      <td>10730023</td>\n",
              "      <td>2</td>\n",
              "      <td>0.3</td>\n",
              "      <td>ppm</td>\n",
              "      <td>3</td>\n",
              "      <td>North Birmingham</td>\n",
              "      <td>24</td>\n",
              "      <td>100.0</td>\n",
              "      <td>...</td>\n",
              "      <td>Carbon monoxide</td>\n",
              "      <td>93</td>\n",
              "      <td>13820</td>\n",
              "      <td>Birmingham-Hoover, AL</td>\n",
              "      <td>1</td>\n",
              "      <td>Alabama</td>\n",
              "      <td>73</td>\n",
              "      <td>Jefferson</td>\n",
              "      <td>33.553056</td>\n",
              "      <td>-86.815</td>\n",
              "    </tr>\n",
              "    <tr>\n",
              "      <th>8</th>\n",
              "      <td>01/09/2022</td>\n",
              "      <td>AQS</td>\n",
              "      <td>10730023</td>\n",
              "      <td>2</td>\n",
              "      <td>0.2</td>\n",
              "      <td>ppm</td>\n",
              "      <td>2</td>\n",
              "      <td>North Birmingham</td>\n",
              "      <td>24</td>\n",
              "      <td>100.0</td>\n",
              "      <td>...</td>\n",
              "      <td>Carbon monoxide</td>\n",
              "      <td>93</td>\n",
              "      <td>13820</td>\n",
              "      <td>Birmingham-Hoover, AL</td>\n",
              "      <td>1</td>\n",
              "      <td>Alabama</td>\n",
              "      <td>73</td>\n",
              "      <td>Jefferson</td>\n",
              "      <td>33.553056</td>\n",
              "      <td>-86.815</td>\n",
              "    </tr>\n",
              "    <tr>\n",
              "      <th>9</th>\n",
              "      <td>01/10/2022</td>\n",
              "      <td>AQS</td>\n",
              "      <td>10730023</td>\n",
              "      <td>2</td>\n",
              "      <td>0.2</td>\n",
              "      <td>ppm</td>\n",
              "      <td>2</td>\n",
              "      <td>North Birmingham</td>\n",
              "      <td>12</td>\n",
              "      <td>50.0</td>\n",
              "      <td>...</td>\n",
              "      <td>Carbon monoxide</td>\n",
              "      <td>93</td>\n",
              "      <td>13820</td>\n",
              "      <td>Birmingham-Hoover, AL</td>\n",
              "      <td>1</td>\n",
              "      <td>Alabama</td>\n",
              "      <td>73</td>\n",
              "      <td>Jefferson</td>\n",
              "      <td>33.553056</td>\n",
              "      <td>-86.815</td>\n",
              "    </tr>\n",
              "  </tbody>\n",
              "</table>\n",
              "<p>10 rows × 21 columns</p>\n",
              "</div>\n",
              "    <div class=\"colab-df-buttons\">\n",
              "\n",
              "  <div class=\"colab-df-container\">\n",
              "    <button class=\"colab-df-convert\" onclick=\"convertToInteractive('df-60ef8791-bce2-4088-a00b-d09bab7d4468')\"\n",
              "            title=\"Convert this dataframe to an interactive table.\"\n",
              "            style=\"display:none;\">\n",
              "\n",
              "  <svg xmlns=\"http://www.w3.org/2000/svg\" height=\"24px\" viewBox=\"0 -960 960 960\">\n",
              "    <path d=\"M120-120v-720h720v720H120Zm60-500h600v-160H180v160Zm220 220h160v-160H400v160Zm0 220h160v-160H400v160ZM180-400h160v-160H180v160Zm440 0h160v-160H620v160ZM180-180h160v-160H180v160Zm440 0h160v-160H620v160Z\"/>\n",
              "  </svg>\n",
              "    </button>\n",
              "\n",
              "  <style>\n",
              "    .colab-df-container {\n",
              "      display:flex;\n",
              "      gap: 12px;\n",
              "    }\n",
              "\n",
              "    .colab-df-convert {\n",
              "      background-color: #E8F0FE;\n",
              "      border: none;\n",
              "      border-radius: 50%;\n",
              "      cursor: pointer;\n",
              "      display: none;\n",
              "      fill: #1967D2;\n",
              "      height: 32px;\n",
              "      padding: 0 0 0 0;\n",
              "      width: 32px;\n",
              "    }\n",
              "\n",
              "    .colab-df-convert:hover {\n",
              "      background-color: #E2EBFA;\n",
              "      box-shadow: 0px 1px 2px rgba(60, 64, 67, 0.3), 0px 1px 3px 1px rgba(60, 64, 67, 0.15);\n",
              "      fill: #174EA6;\n",
              "    }\n",
              "\n",
              "    .colab-df-buttons div {\n",
              "      margin-bottom: 4px;\n",
              "    }\n",
              "\n",
              "    [theme=dark] .colab-df-convert {\n",
              "      background-color: #3B4455;\n",
              "      fill: #D2E3FC;\n",
              "    }\n",
              "\n",
              "    [theme=dark] .colab-df-convert:hover {\n",
              "      background-color: #434B5C;\n",
              "      box-shadow: 0px 1px 3px 1px rgba(0, 0, 0, 0.15);\n",
              "      filter: drop-shadow(0px 1px 2px rgba(0, 0, 0, 0.3));\n",
              "      fill: #FFFFFF;\n",
              "    }\n",
              "  </style>\n",
              "\n",
              "    <script>\n",
              "      const buttonEl =\n",
              "        document.querySelector('#df-60ef8791-bce2-4088-a00b-d09bab7d4468 button.colab-df-convert');\n",
              "      buttonEl.style.display =\n",
              "        google.colab.kernel.accessAllowed ? 'block' : 'none';\n",
              "\n",
              "      async function convertToInteractive(key) {\n",
              "        const element = document.querySelector('#df-60ef8791-bce2-4088-a00b-d09bab7d4468');\n",
              "        const dataTable =\n",
              "          await google.colab.kernel.invokeFunction('convertToInteractive',\n",
              "                                                    [key], {});\n",
              "        if (!dataTable) return;\n",
              "\n",
              "        const docLinkHtml = 'Like what you see? Visit the ' +\n",
              "          '<a target=\"_blank\" href=https://colab.research.google.com/notebooks/data_table.ipynb>data table notebook</a>'\n",
              "          + ' to learn more about interactive tables.';\n",
              "        element.innerHTML = '';\n",
              "        dataTable['output_type'] = 'display_data';\n",
              "        await google.colab.output.renderOutput(dataTable, element);\n",
              "        const docLink = document.createElement('div');\n",
              "        docLink.innerHTML = docLinkHtml;\n",
              "        element.appendChild(docLink);\n",
              "      }\n",
              "    </script>\n",
              "  </div>\n",
              "\n",
              "\n",
              "<div id=\"df-224ffe57-c271-40b3-a3f1-1361baa0044d\">\n",
              "  <button class=\"colab-df-quickchart\" onclick=\"quickchart('df-224ffe57-c271-40b3-a3f1-1361baa0044d')\"\n",
              "            title=\"Suggest charts\"\n",
              "            style=\"display:none;\">\n",
              "\n",
              "<svg xmlns=\"http://www.w3.org/2000/svg\" height=\"24px\"viewBox=\"0 0 24 24\"\n",
              "     width=\"24px\">\n",
              "    <g>\n",
              "        <path d=\"M19 3H5c-1.1 0-2 .9-2 2v14c0 1.1.9 2 2 2h14c1.1 0 2-.9 2-2V5c0-1.1-.9-2-2-2zM9 17H7v-7h2v7zm4 0h-2V7h2v10zm4 0h-2v-4h2v4z\"/>\n",
              "    </g>\n",
              "</svg>\n",
              "  </button>\n",
              "\n",
              "<style>\n",
              "  .colab-df-quickchart {\n",
              "      --bg-color: #E8F0FE;\n",
              "      --fill-color: #1967D2;\n",
              "      --hover-bg-color: #E2EBFA;\n",
              "      --hover-fill-color: #174EA6;\n",
              "      --disabled-fill-color: #AAA;\n",
              "      --disabled-bg-color: #DDD;\n",
              "  }\n",
              "\n",
              "  [theme=dark] .colab-df-quickchart {\n",
              "      --bg-color: #3B4455;\n",
              "      --fill-color: #D2E3FC;\n",
              "      --hover-bg-color: #434B5C;\n",
              "      --hover-fill-color: #FFFFFF;\n",
              "      --disabled-bg-color: #3B4455;\n",
              "      --disabled-fill-color: #666;\n",
              "  }\n",
              "\n",
              "  .colab-df-quickchart {\n",
              "    background-color: var(--bg-color);\n",
              "    border: none;\n",
              "    border-radius: 50%;\n",
              "    cursor: pointer;\n",
              "    display: none;\n",
              "    fill: var(--fill-color);\n",
              "    height: 32px;\n",
              "    padding: 0;\n",
              "    width: 32px;\n",
              "  }\n",
              "\n",
              "  .colab-df-quickchart:hover {\n",
              "    background-color: var(--hover-bg-color);\n",
              "    box-shadow: 0 1px 2px rgba(60, 64, 67, 0.3), 0 1px 3px 1px rgba(60, 64, 67, 0.15);\n",
              "    fill: var(--button-hover-fill-color);\n",
              "  }\n",
              "\n",
              "  .colab-df-quickchart-complete:disabled,\n",
              "  .colab-df-quickchart-complete:disabled:hover {\n",
              "    background-color: var(--disabled-bg-color);\n",
              "    fill: var(--disabled-fill-color);\n",
              "    box-shadow: none;\n",
              "  }\n",
              "\n",
              "  .colab-df-spinner {\n",
              "    border: 2px solid var(--fill-color);\n",
              "    border-color: transparent;\n",
              "    border-bottom-color: var(--fill-color);\n",
              "    animation:\n",
              "      spin 1s steps(1) infinite;\n",
              "  }\n",
              "\n",
              "  @keyframes spin {\n",
              "    0% {\n",
              "      border-color: transparent;\n",
              "      border-bottom-color: var(--fill-color);\n",
              "      border-left-color: var(--fill-color);\n",
              "    }\n",
              "    20% {\n",
              "      border-color: transparent;\n",
              "      border-left-color: var(--fill-color);\n",
              "      border-top-color: var(--fill-color);\n",
              "    }\n",
              "    30% {\n",
              "      border-color: transparent;\n",
              "      border-left-color: var(--fill-color);\n",
              "      border-top-color: var(--fill-color);\n",
              "      border-right-color: var(--fill-color);\n",
              "    }\n",
              "    40% {\n",
              "      border-color: transparent;\n",
              "      border-right-color: var(--fill-color);\n",
              "      border-top-color: var(--fill-color);\n",
              "    }\n",
              "    60% {\n",
              "      border-color: transparent;\n",
              "      border-right-color: var(--fill-color);\n",
              "    }\n",
              "    80% {\n",
              "      border-color: transparent;\n",
              "      border-right-color: var(--fill-color);\n",
              "      border-bottom-color: var(--fill-color);\n",
              "    }\n",
              "    90% {\n",
              "      border-color: transparent;\n",
              "      border-bottom-color: var(--fill-color);\n",
              "    }\n",
              "  }\n",
              "</style>\n",
              "\n",
              "  <script>\n",
              "    async function quickchart(key) {\n",
              "      const quickchartButtonEl =\n",
              "        document.querySelector('#' + key + ' button');\n",
              "      quickchartButtonEl.disabled = true;  // To prevent multiple clicks.\n",
              "      quickchartButtonEl.classList.add('colab-df-spinner');\n",
              "      try {\n",
              "        const charts = await google.colab.kernel.invokeFunction(\n",
              "            'suggestCharts', [key], {});\n",
              "      } catch (error) {\n",
              "        console.error('Error during call to suggestCharts:', error);\n",
              "      }\n",
              "      quickchartButtonEl.classList.remove('colab-df-spinner');\n",
              "      quickchartButtonEl.classList.add('colab-df-quickchart-complete');\n",
              "    }\n",
              "    (() => {\n",
              "      let quickchartButtonEl =\n",
              "        document.querySelector('#df-224ffe57-c271-40b3-a3f1-1361baa0044d button');\n",
              "      quickchartButtonEl.style.display =\n",
              "        google.colab.kernel.accessAllowed ? 'block' : 'none';\n",
              "    })();\n",
              "  </script>\n",
              "</div>\n",
              "\n",
              "    </div>\n",
              "  </div>\n"
            ],
            "application/vnd.google.colaboratory.intrinsic+json": {
              "type": "dataframe",
              "variable_name": "data_df"
            }
          },
          "metadata": {},
          "execution_count": 3
        }
      ]
    },
    {
      "cell_type": "markdown",
      "source": [],
      "metadata": {
        "id": "8Vvaatj0b_i9"
      }
    },
    {
      "cell_type": "markdown",
      "source": [
        "Asegurarnos de que las fechas estén correctamente ordenadas garantiza que el proceso de división del dataset sea coherente y que los datos de entrenamiento y prueba reflejen la progresión temporal real. Esto es especialmente importante en análisis basados en series temporales, donde el orden de los datos puede afectar los resultados del modelo."
      ],
      "metadata": {
        "id": "C8RoOwPYO1eq"
      }
    },
    {
      "cell_type": "code",
      "source": [
        "print(type(data_df['Date'][0]))"
      ],
      "metadata": {
        "colab": {
          "base_uri": "https://localhost:8080/"
        },
        "id": "Cw_OYgNO_J4b",
        "outputId": "e0bef429-a99d-476a-d12f-276f66c35e44"
      },
      "execution_count": null,
      "outputs": [
        {
          "output_type": "stream",
          "name": "stdout",
          "text": [
            "<class 'str'>\n"
          ]
        }
      ]
    },
    {
      "cell_type": "code",
      "source": [
        "print(data_df['Date'].head())"
      ],
      "metadata": {
        "colab": {
          "base_uri": "https://localhost:8080/"
        },
        "id": "luD2s1BX_LWC",
        "outputId": "2bf7f2b9-7be4-4b07-bb53-ac1bf6e6e4e3"
      },
      "execution_count": null,
      "outputs": [
        {
          "output_type": "stream",
          "name": "stdout",
          "text": [
            "0    01/01/2022\n",
            "1    01/02/2022\n",
            "2    01/03/2022\n",
            "3    01/04/2022\n",
            "4    01/05/2022\n",
            "Name: Date, dtype: object\n"
          ]
        }
      ]
    },
    {
      "cell_type": "code",
      "source": [
        "data_df['Date'] = pd.to_datetime(data_df['Date'])"
      ],
      "metadata": {
        "id": "ZI37aU0b_ONz"
      },
      "execution_count": null,
      "outputs": []
    },
    {
      "cell_type": "code",
      "source": [
        "print(type(data_df['Date'][0]))"
      ],
      "metadata": {
        "colab": {
          "base_uri": "https://localhost:8080/"
        },
        "id": "2Skx6pha_P9x",
        "outputId": "65948c36-d251-4320-d800-a2aa87aa44b5"
      },
      "execution_count": null,
      "outputs": [
        {
          "output_type": "stream",
          "name": "stdout",
          "text": [
            "<class 'pandas._libs.tslibs.timestamps.Timestamp'>\n"
          ]
        }
      ]
    },
    {
      "cell_type": "code",
      "source": [
        "print(data_df['Date'].head())"
      ],
      "metadata": {
        "colab": {
          "base_uri": "https://localhost:8080/"
        },
        "id": "jwZgfoVi_RMj",
        "outputId": "bae86895-391e-4e2c-f8da-111f89d7543a"
      },
      "execution_count": null,
      "outputs": [
        {
          "output_type": "stream",
          "name": "stdout",
          "text": [
            "0   2022-01-01\n",
            "1   2022-01-02\n",
            "2   2022-01-03\n",
            "3   2022-01-04\n",
            "4   2022-01-05\n",
            "Name: Date, dtype: datetime64[ns]\n"
          ]
        }
      ]
    },
    {
      "cell_type": "code",
      "source": [
        "import pandas as pd\n",
        "\n",
        "# Ordenar el DataFrame por la columna de fecha\n",
        "data_df = data_df.sort_values(by='Date')\n",
        "\n",
        "# Verifica la ordenación\n",
        "print(data_df['Date'].head())\n"
      ],
      "metadata": {
        "colab": {
          "base_uri": "https://localhost:8080/"
        },
        "id": "xfFE8gmsQ2IG",
        "outputId": "531c1b23-ea4d-41bd-d63c-ae1ee1947260"
      },
      "execution_count": null,
      "outputs": [
        {
          "output_type": "stream",
          "name": "stdout",
          "text": [
            "0   2022-01-01\n",
            "1   2022-01-02\n",
            "2   2022-01-03\n",
            "3   2022-01-04\n",
            "4   2022-01-05\n",
            "Name: Date, dtype: datetime64[ns]\n"
          ]
        }
      ]
    },
    {
      "cell_type": "code",
      "source": [
        "import pandas as pd\n",
        "\n",
        "# Assuming df is your DataFrame\n",
        "rows_to_print = [0, 1, 2, 3, 356, 357, 358, 714, 715, 716]\n",
        "\n",
        "# Print the 'Date' column for the selected rows\n",
        "print(data_df.loc[rows_to_print, 'Date'])"
      ],
      "metadata": {
        "colab": {
          "base_uri": "https://localhost:8080/"
        },
        "id": "1RV0y9nMMI3O",
        "outputId": "da3aff8e-9d69-432a-aadc-accf2760b131"
      },
      "execution_count": null,
      "outputs": [
        {
          "output_type": "stream",
          "name": "stdout",
          "text": [
            "0     2022-01-01\n",
            "1     2022-01-02\n",
            "2     2022-01-03\n",
            "3     2022-01-04\n",
            "356   2022-12-30\n",
            "357   2022-12-31\n",
            "358   2023-01-01\n",
            "714   2023-12-29\n",
            "715   2023-12-30\n",
            "716   2023-12-31\n",
            "Name: Date, dtype: datetime64[ns]\n"
          ]
        }
      ]
    },
    {
      "cell_type": "markdown",
      "source": [
        "## Separando el dataset en training y test"
      ],
      "metadata": {
        "id": "2prrZFPVR_Cf"
      }
    },
    {
      "cell_type": "code",
      "source": [
        "import pandas as pd\n",
        "\n",
        "# Determina el índice para el 80% de entrenamiento y 20% de prueba\n",
        "split_index = int(len(data_df) * 0.8)\n",
        "\n",
        "# Divide el DataFrame en entrenamiento y prueba basado en el índice\n",
        "train_df = data_df[:split_index]\n",
        "test_df = data_df[split_index:]"
      ],
      "metadata": {
        "id": "Cv2Uogu0SDer"
      },
      "execution_count": null,
      "outputs": []
    },
    {
      "cell_type": "markdown",
      "source": [
        "A continuación seguiremos trabajando con train_df, nuestro dataset de entrenamiento"
      ],
      "metadata": {
        "id": "55sX104DS8Jl"
      }
    },
    {
      "cell_type": "markdown",
      "source": [
        "## Tratamiento de días faltantes"
      ],
      "metadata": {
        "id": "oiejSgmjSHj9"
      }
    },
    {
      "cell_type": "code",
      "source": [
        "train_df.info()"
      ],
      "metadata": {
        "colab": {
          "base_uri": "https://localhost:8080/"
        },
        "id": "dch2jiV3SZyq",
        "outputId": "88957d92-60c9-4a79-a6db-da7dbe740181"
      },
      "execution_count": null,
      "outputs": [
        {
          "output_type": "stream",
          "name": "stdout",
          "text": [
            "<class 'pandas.core.frame.DataFrame'>\n",
            "RangeIndex: 573 entries, 0 to 572\n",
            "Data columns (total 21 columns):\n",
            " #   Column                             Non-Null Count  Dtype         \n",
            "---  ------                             --------------  -----         \n",
            " 0   Date                               573 non-null    datetime64[ns]\n",
            " 1   Source                             573 non-null    object        \n",
            " 2   Site ID                            573 non-null    int64         \n",
            " 3   POC                                573 non-null    int64         \n",
            " 4   Daily Max 8-hour CO Concentration  573 non-null    float64       \n",
            " 5   Units                              573 non-null    object        \n",
            " 6   Daily AQI Value                    573 non-null    int64         \n",
            " 7   Local Site Name                    573 non-null    object        \n",
            " 8   Daily Obs Count                    573 non-null    int64         \n",
            " 9   Percent Complete                   573 non-null    float64       \n",
            " 10  AQS Parameter Code                 573 non-null    int64         \n",
            " 11  AQS Parameter Description          573 non-null    object        \n",
            " 12  Method Code                        573 non-null    int64         \n",
            " 13  CBSA Code                          573 non-null    int64         \n",
            " 14  CBSA Name                          573 non-null    object        \n",
            " 15  State FIPS Code                    573 non-null    int64         \n",
            " 16  State                              573 non-null    object        \n",
            " 17  County FIPS Code                   573 non-null    int64         \n",
            " 18  County                             573 non-null    object        \n",
            " 19  Site Latitude                      573 non-null    float64       \n",
            " 20  Site Longitude                     573 non-null    float64       \n",
            "dtypes: datetime64[ns](1), float64(4), int64(9), object(7)\n",
            "memory usage: 94.1+ KB\n"
          ]
        }
      ]
    },
    {
      "cell_type": "markdown",
      "source": [
        "Podemos notar que el contenido ya se encuentra ordenado de forma creciente en días. Sin embargo, observamos que hay días que no se encuentran dentro del dataset, dado que es la data de 2 años debería haber 365x2 = 730 días, pero vemos solo 717 días(ver indíce o cantidad de filas). Por ejemplo:\n",
        "\n",
        "El dataset contiene fechas como 01/01/2022, 01/02/2022, hasta 12/31/2023, pero parece que hay días faltantes entre estos rangos. Esto puede indicar que algunos días no se registraron datos."
      ],
      "metadata": {
        "id": "MBgFy4HDPUBA"
      }
    },
    {
      "cell_type": "code",
      "source": [
        "import pandas as pd\n",
        "\n",
        "# Create a complete date range for the period covered in the DataFrame\n",
        "full_date_range = pd.date_range(start=train_df['Date'].min(), end=train_df['Date'].max())\n",
        "\n",
        "# Find the missing dates by comparing the full range with the existing dates\n",
        "missing_dates = full_date_range.difference(train_df['Date'])\n",
        "\n",
        "# Display the missing dates\n",
        "print(\"Fechas faltantes en el conjunto de entrenamiento:\")\n",
        "print(missing_dates)\n"
      ],
      "metadata": {
        "colab": {
          "base_uri": "https://localhost:8080/"
        },
        "id": "PYsTfREvP-Ry",
        "outputId": "21c7eb2f-5bf8-43f3-b85c-99d1f3dc6da5"
      },
      "execution_count": null,
      "outputs": [
        {
          "output_type": "stream",
          "name": "stdout",
          "text": [
            "Fechas faltantes en el conjunto de entrenamiento:\n",
            "DatetimeIndex(['2022-06-03', '2022-06-04', '2022-06-05', '2022-06-10',\n",
            "               '2022-06-11', '2022-07-10', '2022-08-21', '2023-03-17',\n",
            "               '2023-03-18', '2023-03-19'],\n",
            "              dtype='datetime64[ns]', freq=None)\n"
          ]
        }
      ]
    },
    {
      "cell_type": "markdown",
      "source": [
        "Para completar las fechas faltantes llenaremos hacia adelante los valores faltantes de concentración de CO con el último valor observado para así mantener la tendencia en los datos"
      ],
      "metadata": {
        "id": "I1-yUy9vfWcJ"
      }
    },
    {
      "cell_type": "code",
      "source": [
        "# Create a complete date range for the period covered in the DataFrame\n",
        "full_date_range = pd.date_range(start=train_df['Date'].min(), end=train_df['Date'].max())\n",
        "\n",
        "# Reindex the DataFrame to include all dates in the full range\n",
        "train_df = train_df.set_index('Date').reindex(full_date_range).reset_index()\n",
        "\n",
        "# Rename the 'index' column back to 'Date'\n",
        "train_df.rename(columns={'index': 'Date'}, inplace=True)\n",
        "\n",
        "# Imputación en el conjunto de entrenamiento utilizando forward fill\n",
        "train_df.fillna(method='ffill', inplace=True)\n",
        "\n",
        "# Display the missing dates after reindexing and imputing\n",
        "missing_dates_after_imputation = train_df[train_df.isnull().any(axis=1)]\n",
        "print(\"Fechas con valores faltantes después de la imputación (debería estar vacío):\")\n",
        "print(missing_dates_after_imputation)\n"
      ],
      "metadata": {
        "id": "K2EYkE51LObp",
        "colab": {
          "base_uri": "https://localhost:8080/"
        },
        "outputId": "5d5d9807-f0dd-4057-ceb2-c50d7a0198ba"
      },
      "execution_count": null,
      "outputs": [
        {
          "output_type": "stream",
          "name": "stdout",
          "text": [
            "Fechas con valores faltantes después de la imputación (debería estar vacío):\n",
            "Empty DataFrame\n",
            "Columns: [Date, Source, Site ID, POC, Daily Max 8-hour CO Concentration, Units, Daily AQI Value, Local Site Name, Daily Obs Count, Percent Complete, AQS Parameter Code, AQS Parameter Description, Method Code, CBSA Code, CBSA Name, State FIPS Code, State, County FIPS Code, County, Site Latitude, Site Longitude]\n",
            "Index: []\n",
            "\n",
            "[0 rows x 21 columns]\n"
          ]
        },
        {
          "output_type": "stream",
          "name": "stderr",
          "text": [
            "<ipython-input-26-a0183b816872>:11: FutureWarning: DataFrame.fillna with 'method' is deprecated and will raise in a future version. Use obj.ffill() or obj.bfill() instead.\n",
            "  train_df.fillna(method='ffill', inplace=True)\n"
          ]
        }
      ]
    },
    {
      "cell_type": "code",
      "source": [
        "import pandas as pd\n",
        "\n",
        "# Assuming df is your DataFrame\n",
        "rows_to_print = [0, 1, 2, 3, 364, 365, 366]\n",
        "\n",
        "# Print the 'Date' column for the selected rows\n",
        "print(train_df.loc[rows_to_print, 'Date'])\n",
        "\n"
      ],
      "metadata": {
        "colab": {
          "base_uri": "https://localhost:8080/"
        },
        "id": "LzDCyhgqe-kn",
        "outputId": "06361e59-4980-4724-e35a-17befceca881"
      },
      "execution_count": null,
      "outputs": [
        {
          "output_type": "stream",
          "name": "stdout",
          "text": [
            "0     2022-01-01\n",
            "1     2022-01-02\n",
            "2     2022-01-03\n",
            "3     2022-01-04\n",
            "364   2022-12-31\n",
            "365   2023-01-01\n",
            "366   2023-01-02\n",
            "Name: Date, dtype: datetime64[ns]\n"
          ]
        }
      ]
    },
    {
      "cell_type": "markdown",
      "source": [
        "## Data Exploration/Analysis"
      ],
      "metadata": {
        "id": "qPNgLne6j_i5"
      }
    },
    {
      "cell_type": "code",
      "source": [
        "train_df.info()"
      ],
      "metadata": {
        "colab": {
          "base_uri": "https://localhost:8080/"
        },
        "id": "A8osaUZujjZn",
        "outputId": "2da47751-3d89-40ed-d635-5c6399ca9d39"
      },
      "execution_count": null,
      "outputs": [
        {
          "output_type": "stream",
          "name": "stdout",
          "text": [
            "<class 'pandas.core.frame.DataFrame'>\n",
            "RangeIndex: 583 entries, 0 to 582\n",
            "Data columns (total 21 columns):\n",
            " #   Column                             Non-Null Count  Dtype         \n",
            "---  ------                             --------------  -----         \n",
            " 0   Date                               583 non-null    datetime64[ns]\n",
            " 1   Source                             583 non-null    object        \n",
            " 2   Site ID                            583 non-null    float64       \n",
            " 3   POC                                583 non-null    float64       \n",
            " 4   Daily Max 8-hour CO Concentration  583 non-null    float64       \n",
            " 5   Units                              583 non-null    object        \n",
            " 6   Daily AQI Value                    583 non-null    float64       \n",
            " 7   Local Site Name                    583 non-null    object        \n",
            " 8   Daily Obs Count                    583 non-null    float64       \n",
            " 9   Percent Complete                   583 non-null    float64       \n",
            " 10  AQS Parameter Code                 583 non-null    float64       \n",
            " 11  AQS Parameter Description          583 non-null    object        \n",
            " 12  Method Code                        583 non-null    float64       \n",
            " 13  CBSA Code                          583 non-null    float64       \n",
            " 14  CBSA Name                          583 non-null    object        \n",
            " 15  State FIPS Code                    583 non-null    float64       \n",
            " 16  State                              583 non-null    object        \n",
            " 17  County FIPS Code                   583 non-null    float64       \n",
            " 18  County                             583 non-null    object        \n",
            " 19  Site Latitude                      583 non-null    float64       \n",
            " 20  Site Longitude                     583 non-null    float64       \n",
            "dtypes: datetime64[ns](1), float64(13), object(7)\n",
            "memory usage: 95.8+ KB\n"
          ]
        }
      ]
    },
    {
      "cell_type": "markdown",
      "source": [
        "A continuación una pequeña descripción de cada característica:\n",
        "\n",
        "Date: Fecha del registro de datos.\n",
        "\n",
        "Source: Fuente de los datos.\n",
        "\n",
        "Site ID: Identificador del sitio de monitoreo.\n",
        "\n",
        "POC: Código de Ocurrencia del Parámetro.\n",
        "\n",
        "Daily Max 8-hour CO Concentration: Concentración máxima de Monóxido de Carbono (CO) medida durante un período de 8 horas.\n",
        "\n",
        "Units: Unidades de la concentración de CO.\n",
        "\n",
        "Daily AQI Value: Valor del Índice de Calidad del Aire (AQI) para el día.\n",
        "\n",
        "Local Site Name: Nombre del sitio de monitoreo.\n",
        "\n",
        "Daily Obs Count: Número de observaciones registradas durante el día.\n",
        "\n",
        "Percent Complete: Porcentaje de completitud de los datos diarios.\n",
        "AQS Parameter Code: Código del contaminante o parámetro.\n",
        "\n",
        "AQS Parameter Description: Descripción del parámetro (en este caso, CO).\n",
        "\n",
        "Method Code: Código del método de medición utilizado para monitorear el CO.\n",
        "\n",
        "CBSA Code: Código del Área Estadística Basada en Núcleos (CBSA).\n",
        "\n",
        "CBSA Name: Nombre del Área Estadística Basada en Núcleos.\n",
        "\n",
        "State FIPS Code: Código FIPS del estado.\n",
        "\n",
        "State: Nombre del estado.\n",
        "\n",
        "County FIPS Code: Código FIPS del condado.\n",
        "\n",
        "County: Nombre del condado.\n",
        "\n",
        "Site Latitude: Coordenada de latitud del sitio de monitoreo.\n",
        "\n",
        "Site Longitude: Coordenada de longitud del sitio de monitoreo.\n",
        "\n",
        "\n",
        "\n",
        "\n",
        "\n"
      ],
      "metadata": {
        "id": "eq5cgCiYkRoz"
      }
    },
    {
      "cell_type": "markdown",
      "source": [
        "## Procesamiento de datos"
      ],
      "metadata": {
        "id": "eQqObIq4hXHz"
      }
    },
    {
      "cell_type": "markdown",
      "source": [
        "Columnas que eliminaremos:\n",
        "\n",
        "\n",
        "*   POC(Parameter Ocurrence Code):\n",
        "Este código se utiliza para identificar de manera única un monitor cuando hay más de un dispositivo midiendo el mismo contaminante en un sitio.\n",
        "*   Source:\n",
        "La columna 'Source' es constante en el dataset y no tiene un impacto directo en la concentración de CO.\n",
        "*   Site ID:\n",
        "Este identificador es más bien una codificación de la ubicación de monitoreo. Aunque es útil para identificar el sitio de medición, no influye en la concentración de CO\n",
        "*   Local Site Name:\n",
        "Es un dato descriptivo único que brinda información sobre la ubicación del sitio de monitoreo.\n",
        "*   Units:\n",
        "Las unidades de medida de la concentración de CO son constantes y no aportan valor adicional al modelo predictivo.\n",
        "*   AQS Parameter Code:\n",
        "Código que identifica el parámetro específico que se está midiendo (en este caso, CO).\n",
        "*   Method Code:\n",
        "Código del método de medición utilizado para monitorear el CO. Si bien describe el método de medición, no afecta directamente los valores de concentración de CO\n",
        "*   CBSA Code:\n",
        "Código del Área Estadística Basada en Núcleos (Core Based Statistical Area). Esta codificación se refiere a áreas geográficas específicas que no tienen un impacto directo en los valores de CO\n",
        "*   CBSA Name:\n",
        "Nombre del Área Estadística Basada en Núcleos, similar a 'CBSA Code'.\n",
        "*   State FIPS Code:\n",
        "Código Federal de Procesamiento de Información Estándar para el Estado. Es constante dentro del dataset y no tiene efecto sobre la concentración de CO\n",
        "*   County:\n",
        "Nombre del condado. Similar a 'State FIPS Code', es descriptivo y no afecta directamente la concentración de CO\n",
        "*   State:\n",
        "Nombre del estado. Al igual que con 'County'\n",
        "*  County FIPS Code:\n",
        "Código FIPS del condado. Dado que es un identificador constante en el dataset, no aporta información adicional\n",
        "*   Site Latitude y Site Longitude:\n",
        "Las coordenadas geográficas representan la ubicación del sitio de monitoreo, que es constante en el dataset.\n",
        "\n",
        "\n"
      ],
      "metadata": {
        "id": "M0NEcGtcj4o9"
      }
    },
    {
      "cell_type": "code",
      "source": [
        "# Lista de columnas a eliminar\n",
        "columns_to_drop = [\n",
        "    \"POC\", \"Source\", \"Site ID\", \"Local Site Name\", \"Units\",\n",
        "    \"AQS Parameter Code\", \"Method Code\", \"State\", \"AQS Parameter Description\", \"CBSA Code\", \"CBSA Name\",\n",
        "    \"State FIPS Code\", \"County\", \"County FIPS Code\", \"Site Latitude\", \"Site Longitude\"\n",
        "]\n",
        "\n",
        "# Eliminar las columnas del DataFrame\n",
        "train_df = train_df.drop(columns=columns_to_drop)\n"
      ],
      "metadata": {
        "id": "5zEmVsWvwxxp"
      },
      "execution_count": null,
      "outputs": []
    },
    {
      "cell_type": "markdown",
      "source": [
        "Vemos con que datos nos hemos quedado"
      ],
      "metadata": {
        "id": "7Ex7gYo3xb2y"
      }
    },
    {
      "cell_type": "code",
      "source": [
        "train_df.head(5)"
      ],
      "metadata": {
        "colab": {
          "base_uri": "https://localhost:8080/",
          "height": 206
        },
        "id": "TOl6JoVKlLQ8",
        "outputId": "db170bec-6ab3-490a-a2db-adff5923eb88"
      },
      "execution_count": null,
      "outputs": [
        {
          "output_type": "execute_result",
          "data": {
            "text/plain": [
              "        Date  Daily Max 8-hour CO Concentration  Daily AQI Value  \\\n",
              "0 2022-01-01                                0.1                1   \n",
              "1 2022-01-02                                0.2                2   \n",
              "2 2022-01-03                                0.2                2   \n",
              "3 2022-01-04                                0.2                2   \n",
              "4 2022-01-05                                0.5                6   \n",
              "\n",
              "   Daily Obs Count  Percent Complete  \n",
              "0               19              79.0  \n",
              "1               24             100.0  \n",
              "2               12              50.0  \n",
              "3                4              17.0  \n",
              "4                9              38.0  "
            ],
            "text/html": [
              "\n",
              "  <div id=\"df-eea51233-22d9-4a6c-9f10-38aaa20f04ad\" class=\"colab-df-container\">\n",
              "    <div>\n",
              "<style scoped>\n",
              "    .dataframe tbody tr th:only-of-type {\n",
              "        vertical-align: middle;\n",
              "    }\n",
              "\n",
              "    .dataframe tbody tr th {\n",
              "        vertical-align: top;\n",
              "    }\n",
              "\n",
              "    .dataframe thead th {\n",
              "        text-align: right;\n",
              "    }\n",
              "</style>\n",
              "<table border=\"1\" class=\"dataframe\">\n",
              "  <thead>\n",
              "    <tr style=\"text-align: right;\">\n",
              "      <th></th>\n",
              "      <th>Date</th>\n",
              "      <th>Daily Max 8-hour CO Concentration</th>\n",
              "      <th>Daily AQI Value</th>\n",
              "      <th>Daily Obs Count</th>\n",
              "      <th>Percent Complete</th>\n",
              "    </tr>\n",
              "  </thead>\n",
              "  <tbody>\n",
              "    <tr>\n",
              "      <th>0</th>\n",
              "      <td>2022-01-01</td>\n",
              "      <td>0.1</td>\n",
              "      <td>1</td>\n",
              "      <td>19</td>\n",
              "      <td>79.0</td>\n",
              "    </tr>\n",
              "    <tr>\n",
              "      <th>1</th>\n",
              "      <td>2022-01-02</td>\n",
              "      <td>0.2</td>\n",
              "      <td>2</td>\n",
              "      <td>24</td>\n",
              "      <td>100.0</td>\n",
              "    </tr>\n",
              "    <tr>\n",
              "      <th>2</th>\n",
              "      <td>2022-01-03</td>\n",
              "      <td>0.2</td>\n",
              "      <td>2</td>\n",
              "      <td>12</td>\n",
              "      <td>50.0</td>\n",
              "    </tr>\n",
              "    <tr>\n",
              "      <th>3</th>\n",
              "      <td>2022-01-04</td>\n",
              "      <td>0.2</td>\n",
              "      <td>2</td>\n",
              "      <td>4</td>\n",
              "      <td>17.0</td>\n",
              "    </tr>\n",
              "    <tr>\n",
              "      <th>4</th>\n",
              "      <td>2022-01-05</td>\n",
              "      <td>0.5</td>\n",
              "      <td>6</td>\n",
              "      <td>9</td>\n",
              "      <td>38.0</td>\n",
              "    </tr>\n",
              "  </tbody>\n",
              "</table>\n",
              "</div>\n",
              "    <div class=\"colab-df-buttons\">\n",
              "\n",
              "  <div class=\"colab-df-container\">\n",
              "    <button class=\"colab-df-convert\" onclick=\"convertToInteractive('df-eea51233-22d9-4a6c-9f10-38aaa20f04ad')\"\n",
              "            title=\"Convert this dataframe to an interactive table.\"\n",
              "            style=\"display:none;\">\n",
              "\n",
              "  <svg xmlns=\"http://www.w3.org/2000/svg\" height=\"24px\" viewBox=\"0 -960 960 960\">\n",
              "    <path d=\"M120-120v-720h720v720H120Zm60-500h600v-160H180v160Zm220 220h160v-160H400v160Zm0 220h160v-160H400v160ZM180-400h160v-160H180v160Zm440 0h160v-160H620v160ZM180-180h160v-160H180v160Zm440 0h160v-160H620v160Z\"/>\n",
              "  </svg>\n",
              "    </button>\n",
              "\n",
              "  <style>\n",
              "    .colab-df-container {\n",
              "      display:flex;\n",
              "      gap: 12px;\n",
              "    }\n",
              "\n",
              "    .colab-df-convert {\n",
              "      background-color: #E8F0FE;\n",
              "      border: none;\n",
              "      border-radius: 50%;\n",
              "      cursor: pointer;\n",
              "      display: none;\n",
              "      fill: #1967D2;\n",
              "      height: 32px;\n",
              "      padding: 0 0 0 0;\n",
              "      width: 32px;\n",
              "    }\n",
              "\n",
              "    .colab-df-convert:hover {\n",
              "      background-color: #E2EBFA;\n",
              "      box-shadow: 0px 1px 2px rgba(60, 64, 67, 0.3), 0px 1px 3px 1px rgba(60, 64, 67, 0.15);\n",
              "      fill: #174EA6;\n",
              "    }\n",
              "\n",
              "    .colab-df-buttons div {\n",
              "      margin-bottom: 4px;\n",
              "    }\n",
              "\n",
              "    [theme=dark] .colab-df-convert {\n",
              "      background-color: #3B4455;\n",
              "      fill: #D2E3FC;\n",
              "    }\n",
              "\n",
              "    [theme=dark] .colab-df-convert:hover {\n",
              "      background-color: #434B5C;\n",
              "      box-shadow: 0px 1px 3px 1px rgba(0, 0, 0, 0.15);\n",
              "      filter: drop-shadow(0px 1px 2px rgba(0, 0, 0, 0.3));\n",
              "      fill: #FFFFFF;\n",
              "    }\n",
              "  </style>\n",
              "\n",
              "    <script>\n",
              "      const buttonEl =\n",
              "        document.querySelector('#df-eea51233-22d9-4a6c-9f10-38aaa20f04ad button.colab-df-convert');\n",
              "      buttonEl.style.display =\n",
              "        google.colab.kernel.accessAllowed ? 'block' : 'none';\n",
              "\n",
              "      async function convertToInteractive(key) {\n",
              "        const element = document.querySelector('#df-eea51233-22d9-4a6c-9f10-38aaa20f04ad');\n",
              "        const dataTable =\n",
              "          await google.colab.kernel.invokeFunction('convertToInteractive',\n",
              "                                                    [key], {});\n",
              "        if (!dataTable) return;\n",
              "\n",
              "        const docLinkHtml = 'Like what you see? Visit the ' +\n",
              "          '<a target=\"_blank\" href=https://colab.research.google.com/notebooks/data_table.ipynb>data table notebook</a>'\n",
              "          + ' to learn more about interactive tables.';\n",
              "        element.innerHTML = '';\n",
              "        dataTable['output_type'] = 'display_data';\n",
              "        await google.colab.output.renderOutput(dataTable, element);\n",
              "        const docLink = document.createElement('div');\n",
              "        docLink.innerHTML = docLinkHtml;\n",
              "        element.appendChild(docLink);\n",
              "      }\n",
              "    </script>\n",
              "  </div>\n",
              "\n",
              "\n",
              "<div id=\"df-e2c28f48-c0f9-4c33-ab02-cfe929c50a38\">\n",
              "  <button class=\"colab-df-quickchart\" onclick=\"quickchart('df-e2c28f48-c0f9-4c33-ab02-cfe929c50a38')\"\n",
              "            title=\"Suggest charts\"\n",
              "            style=\"display:none;\">\n",
              "\n",
              "<svg xmlns=\"http://www.w3.org/2000/svg\" height=\"24px\"viewBox=\"0 0 24 24\"\n",
              "     width=\"24px\">\n",
              "    <g>\n",
              "        <path d=\"M19 3H5c-1.1 0-2 .9-2 2v14c0 1.1.9 2 2 2h14c1.1 0 2-.9 2-2V5c0-1.1-.9-2-2-2zM9 17H7v-7h2v7zm4 0h-2V7h2v10zm4 0h-2v-4h2v4z\"/>\n",
              "    </g>\n",
              "</svg>\n",
              "  </button>\n",
              "\n",
              "<style>\n",
              "  .colab-df-quickchart {\n",
              "      --bg-color: #E8F0FE;\n",
              "      --fill-color: #1967D2;\n",
              "      --hover-bg-color: #E2EBFA;\n",
              "      --hover-fill-color: #174EA6;\n",
              "      --disabled-fill-color: #AAA;\n",
              "      --disabled-bg-color: #DDD;\n",
              "  }\n",
              "\n",
              "  [theme=dark] .colab-df-quickchart {\n",
              "      --bg-color: #3B4455;\n",
              "      --fill-color: #D2E3FC;\n",
              "      --hover-bg-color: #434B5C;\n",
              "      --hover-fill-color: #FFFFFF;\n",
              "      --disabled-bg-color: #3B4455;\n",
              "      --disabled-fill-color: #666;\n",
              "  }\n",
              "\n",
              "  .colab-df-quickchart {\n",
              "    background-color: var(--bg-color);\n",
              "    border: none;\n",
              "    border-radius: 50%;\n",
              "    cursor: pointer;\n",
              "    display: none;\n",
              "    fill: var(--fill-color);\n",
              "    height: 32px;\n",
              "    padding: 0;\n",
              "    width: 32px;\n",
              "  }\n",
              "\n",
              "  .colab-df-quickchart:hover {\n",
              "    background-color: var(--hover-bg-color);\n",
              "    box-shadow: 0 1px 2px rgba(60, 64, 67, 0.3), 0 1px 3px 1px rgba(60, 64, 67, 0.15);\n",
              "    fill: var(--button-hover-fill-color);\n",
              "  }\n",
              "\n",
              "  .colab-df-quickchart-complete:disabled,\n",
              "  .colab-df-quickchart-complete:disabled:hover {\n",
              "    background-color: var(--disabled-bg-color);\n",
              "    fill: var(--disabled-fill-color);\n",
              "    box-shadow: none;\n",
              "  }\n",
              "\n",
              "  .colab-df-spinner {\n",
              "    border: 2px solid var(--fill-color);\n",
              "    border-color: transparent;\n",
              "    border-bottom-color: var(--fill-color);\n",
              "    animation:\n",
              "      spin 1s steps(1) infinite;\n",
              "  }\n",
              "\n",
              "  @keyframes spin {\n",
              "    0% {\n",
              "      border-color: transparent;\n",
              "      border-bottom-color: var(--fill-color);\n",
              "      border-left-color: var(--fill-color);\n",
              "    }\n",
              "    20% {\n",
              "      border-color: transparent;\n",
              "      border-left-color: var(--fill-color);\n",
              "      border-top-color: var(--fill-color);\n",
              "    }\n",
              "    30% {\n",
              "      border-color: transparent;\n",
              "      border-left-color: var(--fill-color);\n",
              "      border-top-color: var(--fill-color);\n",
              "      border-right-color: var(--fill-color);\n",
              "    }\n",
              "    40% {\n",
              "      border-color: transparent;\n",
              "      border-right-color: var(--fill-color);\n",
              "      border-top-color: var(--fill-color);\n",
              "    }\n",
              "    60% {\n",
              "      border-color: transparent;\n",
              "      border-right-color: var(--fill-color);\n",
              "    }\n",
              "    80% {\n",
              "      border-color: transparent;\n",
              "      border-right-color: var(--fill-color);\n",
              "      border-bottom-color: var(--fill-color);\n",
              "    }\n",
              "    90% {\n",
              "      border-color: transparent;\n",
              "      border-bottom-color: var(--fill-color);\n",
              "    }\n",
              "  }\n",
              "</style>\n",
              "\n",
              "  <script>\n",
              "    async function quickchart(key) {\n",
              "      const quickchartButtonEl =\n",
              "        document.querySelector('#' + key + ' button');\n",
              "      quickchartButtonEl.disabled = true;  // To prevent multiple clicks.\n",
              "      quickchartButtonEl.classList.add('colab-df-spinner');\n",
              "      try {\n",
              "        const charts = await google.colab.kernel.invokeFunction(\n",
              "            'suggestCharts', [key], {});\n",
              "      } catch (error) {\n",
              "        console.error('Error during call to suggestCharts:', error);\n",
              "      }\n",
              "      quickchartButtonEl.classList.remove('colab-df-spinner');\n",
              "      quickchartButtonEl.classList.add('colab-df-quickchart-complete');\n",
              "    }\n",
              "    (() => {\n",
              "      let quickchartButtonEl =\n",
              "        document.querySelector('#df-e2c28f48-c0f9-4c33-ab02-cfe929c50a38 button');\n",
              "      quickchartButtonEl.style.display =\n",
              "        google.colab.kernel.accessAllowed ? 'block' : 'none';\n",
              "    })();\n",
              "  </script>\n",
              "</div>\n",
              "\n",
              "    </div>\n",
              "  </div>\n"
            ],
            "application/vnd.google.colaboratory.intrinsic+json": {
              "type": "dataframe",
              "variable_name": "train_df",
              "summary": "{\n  \"name\": \"train_df\",\n  \"rows\": 573,\n  \"fields\": [\n    {\n      \"column\": \"Date\",\n      \"properties\": {\n        \"dtype\": \"date\",\n        \"min\": \"2022-01-01 00:00:00\",\n        \"max\": \"2023-08-06 00:00:00\",\n        \"num_unique_values\": 573,\n        \"samples\": [\n          \"2023-06-08 00:00:00\",\n          \"2022-03-12 00:00:00\",\n          \"2022-05-12 00:00:00\"\n        ],\n        \"semantic_type\": \"\",\n        \"description\": \"\"\n      }\n    },\n    {\n      \"column\": \"Daily Max 8-hour CO Concentration\",\n      \"properties\": {\n        \"dtype\": \"number\",\n        \"std\": 0.19461752468015342,\n        \"min\": 0.1,\n        \"max\": 2.6,\n        \"num_unique_values\": 9,\n        \"samples\": [\n          0.7,\n          0.2,\n          0.8\n        ],\n        \"semantic_type\": \"\",\n        \"description\": \"\"\n      }\n    },\n    {\n      \"column\": \"Daily AQI Value\",\n      \"properties\": {\n        \"dtype\": \"number\",\n        \"std\": 2,\n        \"min\": 1,\n        \"max\": 30,\n        \"num_unique_values\": 9,\n        \"samples\": [\n          8,\n          2,\n          9\n        ],\n        \"semantic_type\": \"\",\n        \"description\": \"\"\n      }\n    },\n    {\n      \"column\": \"Daily Obs Count\",\n      \"properties\": {\n        \"dtype\": \"number\",\n        \"std\": 4,\n        \"min\": 4,\n        \"max\": 24,\n        \"num_unique_values\": 19,\n        \"samples\": [\n          19,\n          11,\n          22\n        ],\n        \"semantic_type\": \"\",\n        \"description\": \"\"\n      }\n    },\n    {\n      \"column\": \"Percent Complete\",\n      \"properties\": {\n        \"dtype\": \"number\",\n        \"std\": 16.705889969189787,\n        \"min\": 17.0,\n        \"max\": 100.0,\n        \"num_unique_values\": 19,\n        \"samples\": [\n          79.0,\n          46.0,\n          92.0\n        ],\n        \"semantic_type\": \"\",\n        \"description\": \"\"\n      }\n    }\n  ]\n}"
            }
          },
          "metadata": {},
          "execution_count": 15
        }
      ]
    },
    {
      "cell_type": "markdown",
      "source": [],
      "metadata": {
        "id": "h358Q9nx2uAZ"
      }
    },
    {
      "cell_type": "code",
      "source": [
        "train_df.describe().T"
      ],
      "metadata": {
        "colab": {
          "base_uri": "https://localhost:8080/",
          "height": 241
        },
        "id": "vVSsaxkamZi1",
        "outputId": "6cb5ac5b-dc46-4550-b61a-c6e85e0ce568"
      },
      "execution_count": null,
      "outputs": [
        {
          "output_type": "execute_result",
          "data": {
            "text/plain": [
              "                                   count                 mean  \\\n",
              "Date                                 573  2022-10-19 16:00:00   \n",
              "Daily Max 8-hour CO Concentration  573.0             0.310646   \n",
              "Daily AQI Value                    573.0             3.403141   \n",
              "Daily Obs Count                    573.0            22.101222   \n",
              "Percent Complete                   573.0            92.113438   \n",
              "\n",
              "                                                   min                  25%  \\\n",
              "Date                               2022-01-01 00:00:00  2022-05-24 00:00:00   \n",
              "Daily Max 8-hour CO Concentration                  0.1                  0.2   \n",
              "Daily AQI Value                                    1.0                  2.0   \n",
              "Daily Obs Count                                    4.0                 24.0   \n",
              "Percent Complete                                  17.0                100.0   \n",
              "\n",
              "                                                   50%                  75%  \\\n",
              "Date                               2022-10-21 00:00:00  2023-03-13 00:00:00   \n",
              "Daily Max 8-hour CO Concentration                  0.3                  0.4   \n",
              "Daily AQI Value                                    3.0                  5.0   \n",
              "Daily Obs Count                                   24.0                 24.0   \n",
              "Percent Complete                                 100.0                100.0   \n",
              "\n",
              "                                                   max       std  \n",
              "Date                               2023-08-06 00:00:00       NaN  \n",
              "Daily Max 8-hour CO Concentration                  2.6  0.194618  \n",
              "Daily AQI Value                                   30.0  2.385077  \n",
              "Daily Obs Count                                   24.0  4.020518  \n",
              "Percent Complete                                 100.0  16.70589  "
            ],
            "text/html": [
              "\n",
              "  <div id=\"df-99a32a71-dbde-4103-9a64-c1e6761c130e\" class=\"colab-df-container\">\n",
              "    <div>\n",
              "<style scoped>\n",
              "    .dataframe tbody tr th:only-of-type {\n",
              "        vertical-align: middle;\n",
              "    }\n",
              "\n",
              "    .dataframe tbody tr th {\n",
              "        vertical-align: top;\n",
              "    }\n",
              "\n",
              "    .dataframe thead th {\n",
              "        text-align: right;\n",
              "    }\n",
              "</style>\n",
              "<table border=\"1\" class=\"dataframe\">\n",
              "  <thead>\n",
              "    <tr style=\"text-align: right;\">\n",
              "      <th></th>\n",
              "      <th>count</th>\n",
              "      <th>mean</th>\n",
              "      <th>min</th>\n",
              "      <th>25%</th>\n",
              "      <th>50%</th>\n",
              "      <th>75%</th>\n",
              "      <th>max</th>\n",
              "      <th>std</th>\n",
              "    </tr>\n",
              "  </thead>\n",
              "  <tbody>\n",
              "    <tr>\n",
              "      <th>Date</th>\n",
              "      <td>573</td>\n",
              "      <td>2022-10-19 16:00:00</td>\n",
              "      <td>2022-01-01 00:00:00</td>\n",
              "      <td>2022-05-24 00:00:00</td>\n",
              "      <td>2022-10-21 00:00:00</td>\n",
              "      <td>2023-03-13 00:00:00</td>\n",
              "      <td>2023-08-06 00:00:00</td>\n",
              "      <td>NaN</td>\n",
              "    </tr>\n",
              "    <tr>\n",
              "      <th>Daily Max 8-hour CO Concentration</th>\n",
              "      <td>573.0</td>\n",
              "      <td>0.310646</td>\n",
              "      <td>0.1</td>\n",
              "      <td>0.2</td>\n",
              "      <td>0.3</td>\n",
              "      <td>0.4</td>\n",
              "      <td>2.6</td>\n",
              "      <td>0.194618</td>\n",
              "    </tr>\n",
              "    <tr>\n",
              "      <th>Daily AQI Value</th>\n",
              "      <td>573.0</td>\n",
              "      <td>3.403141</td>\n",
              "      <td>1.0</td>\n",
              "      <td>2.0</td>\n",
              "      <td>3.0</td>\n",
              "      <td>5.0</td>\n",
              "      <td>30.0</td>\n",
              "      <td>2.385077</td>\n",
              "    </tr>\n",
              "    <tr>\n",
              "      <th>Daily Obs Count</th>\n",
              "      <td>573.0</td>\n",
              "      <td>22.101222</td>\n",
              "      <td>4.0</td>\n",
              "      <td>24.0</td>\n",
              "      <td>24.0</td>\n",
              "      <td>24.0</td>\n",
              "      <td>24.0</td>\n",
              "      <td>4.020518</td>\n",
              "    </tr>\n",
              "    <tr>\n",
              "      <th>Percent Complete</th>\n",
              "      <td>573.0</td>\n",
              "      <td>92.113438</td>\n",
              "      <td>17.0</td>\n",
              "      <td>100.0</td>\n",
              "      <td>100.0</td>\n",
              "      <td>100.0</td>\n",
              "      <td>100.0</td>\n",
              "      <td>16.70589</td>\n",
              "    </tr>\n",
              "  </tbody>\n",
              "</table>\n",
              "</div>\n",
              "    <div class=\"colab-df-buttons\">\n",
              "\n",
              "  <div class=\"colab-df-container\">\n",
              "    <button class=\"colab-df-convert\" onclick=\"convertToInteractive('df-99a32a71-dbde-4103-9a64-c1e6761c130e')\"\n",
              "            title=\"Convert this dataframe to an interactive table.\"\n",
              "            style=\"display:none;\">\n",
              "\n",
              "  <svg xmlns=\"http://www.w3.org/2000/svg\" height=\"24px\" viewBox=\"0 -960 960 960\">\n",
              "    <path d=\"M120-120v-720h720v720H120Zm60-500h600v-160H180v160Zm220 220h160v-160H400v160Zm0 220h160v-160H400v160ZM180-400h160v-160H180v160Zm440 0h160v-160H620v160ZM180-180h160v-160H180v160Zm440 0h160v-160H620v160Z\"/>\n",
              "  </svg>\n",
              "    </button>\n",
              "\n",
              "  <style>\n",
              "    .colab-df-container {\n",
              "      display:flex;\n",
              "      gap: 12px;\n",
              "    }\n",
              "\n",
              "    .colab-df-convert {\n",
              "      background-color: #E8F0FE;\n",
              "      border: none;\n",
              "      border-radius: 50%;\n",
              "      cursor: pointer;\n",
              "      display: none;\n",
              "      fill: #1967D2;\n",
              "      height: 32px;\n",
              "      padding: 0 0 0 0;\n",
              "      width: 32px;\n",
              "    }\n",
              "\n",
              "    .colab-df-convert:hover {\n",
              "      background-color: #E2EBFA;\n",
              "      box-shadow: 0px 1px 2px rgba(60, 64, 67, 0.3), 0px 1px 3px 1px rgba(60, 64, 67, 0.15);\n",
              "      fill: #174EA6;\n",
              "    }\n",
              "\n",
              "    .colab-df-buttons div {\n",
              "      margin-bottom: 4px;\n",
              "    }\n",
              "\n",
              "    [theme=dark] .colab-df-convert {\n",
              "      background-color: #3B4455;\n",
              "      fill: #D2E3FC;\n",
              "    }\n",
              "\n",
              "    [theme=dark] .colab-df-convert:hover {\n",
              "      background-color: #434B5C;\n",
              "      box-shadow: 0px 1px 3px 1px rgba(0, 0, 0, 0.15);\n",
              "      filter: drop-shadow(0px 1px 2px rgba(0, 0, 0, 0.3));\n",
              "      fill: #FFFFFF;\n",
              "    }\n",
              "  </style>\n",
              "\n",
              "    <script>\n",
              "      const buttonEl =\n",
              "        document.querySelector('#df-99a32a71-dbde-4103-9a64-c1e6761c130e button.colab-df-convert');\n",
              "      buttonEl.style.display =\n",
              "        google.colab.kernel.accessAllowed ? 'block' : 'none';\n",
              "\n",
              "      async function convertToInteractive(key) {\n",
              "        const element = document.querySelector('#df-99a32a71-dbde-4103-9a64-c1e6761c130e');\n",
              "        const dataTable =\n",
              "          await google.colab.kernel.invokeFunction('convertToInteractive',\n",
              "                                                    [key], {});\n",
              "        if (!dataTable) return;\n",
              "\n",
              "        const docLinkHtml = 'Like what you see? Visit the ' +\n",
              "          '<a target=\"_blank\" href=https://colab.research.google.com/notebooks/data_table.ipynb>data table notebook</a>'\n",
              "          + ' to learn more about interactive tables.';\n",
              "        element.innerHTML = '';\n",
              "        dataTable['output_type'] = 'display_data';\n",
              "        await google.colab.output.renderOutput(dataTable, element);\n",
              "        const docLink = document.createElement('div');\n",
              "        docLink.innerHTML = docLinkHtml;\n",
              "        element.appendChild(docLink);\n",
              "      }\n",
              "    </script>\n",
              "  </div>\n",
              "\n",
              "\n",
              "<div id=\"df-014e44c0-6704-4703-864c-d0ba9c52806d\">\n",
              "  <button class=\"colab-df-quickchart\" onclick=\"quickchart('df-014e44c0-6704-4703-864c-d0ba9c52806d')\"\n",
              "            title=\"Suggest charts\"\n",
              "            style=\"display:none;\">\n",
              "\n",
              "<svg xmlns=\"http://www.w3.org/2000/svg\" height=\"24px\"viewBox=\"0 0 24 24\"\n",
              "     width=\"24px\">\n",
              "    <g>\n",
              "        <path d=\"M19 3H5c-1.1 0-2 .9-2 2v14c0 1.1.9 2 2 2h14c1.1 0 2-.9 2-2V5c0-1.1-.9-2-2-2zM9 17H7v-7h2v7zm4 0h-2V7h2v10zm4 0h-2v-4h2v4z\"/>\n",
              "    </g>\n",
              "</svg>\n",
              "  </button>\n",
              "\n",
              "<style>\n",
              "  .colab-df-quickchart {\n",
              "      --bg-color: #E8F0FE;\n",
              "      --fill-color: #1967D2;\n",
              "      --hover-bg-color: #E2EBFA;\n",
              "      --hover-fill-color: #174EA6;\n",
              "      --disabled-fill-color: #AAA;\n",
              "      --disabled-bg-color: #DDD;\n",
              "  }\n",
              "\n",
              "  [theme=dark] .colab-df-quickchart {\n",
              "      --bg-color: #3B4455;\n",
              "      --fill-color: #D2E3FC;\n",
              "      --hover-bg-color: #434B5C;\n",
              "      --hover-fill-color: #FFFFFF;\n",
              "      --disabled-bg-color: #3B4455;\n",
              "      --disabled-fill-color: #666;\n",
              "  }\n",
              "\n",
              "  .colab-df-quickchart {\n",
              "    background-color: var(--bg-color);\n",
              "    border: none;\n",
              "    border-radius: 50%;\n",
              "    cursor: pointer;\n",
              "    display: none;\n",
              "    fill: var(--fill-color);\n",
              "    height: 32px;\n",
              "    padding: 0;\n",
              "    width: 32px;\n",
              "  }\n",
              "\n",
              "  .colab-df-quickchart:hover {\n",
              "    background-color: var(--hover-bg-color);\n",
              "    box-shadow: 0 1px 2px rgba(60, 64, 67, 0.3), 0 1px 3px 1px rgba(60, 64, 67, 0.15);\n",
              "    fill: var(--button-hover-fill-color);\n",
              "  }\n",
              "\n",
              "  .colab-df-quickchart-complete:disabled,\n",
              "  .colab-df-quickchart-complete:disabled:hover {\n",
              "    background-color: var(--disabled-bg-color);\n",
              "    fill: var(--disabled-fill-color);\n",
              "    box-shadow: none;\n",
              "  }\n",
              "\n",
              "  .colab-df-spinner {\n",
              "    border: 2px solid var(--fill-color);\n",
              "    border-color: transparent;\n",
              "    border-bottom-color: var(--fill-color);\n",
              "    animation:\n",
              "      spin 1s steps(1) infinite;\n",
              "  }\n",
              "\n",
              "  @keyframes spin {\n",
              "    0% {\n",
              "      border-color: transparent;\n",
              "      border-bottom-color: var(--fill-color);\n",
              "      border-left-color: var(--fill-color);\n",
              "    }\n",
              "    20% {\n",
              "      border-color: transparent;\n",
              "      border-left-color: var(--fill-color);\n",
              "      border-top-color: var(--fill-color);\n",
              "    }\n",
              "    30% {\n",
              "      border-color: transparent;\n",
              "      border-left-color: var(--fill-color);\n",
              "      border-top-color: var(--fill-color);\n",
              "      border-right-color: var(--fill-color);\n",
              "    }\n",
              "    40% {\n",
              "      border-color: transparent;\n",
              "      border-right-color: var(--fill-color);\n",
              "      border-top-color: var(--fill-color);\n",
              "    }\n",
              "    60% {\n",
              "      border-color: transparent;\n",
              "      border-right-color: var(--fill-color);\n",
              "    }\n",
              "    80% {\n",
              "      border-color: transparent;\n",
              "      border-right-color: var(--fill-color);\n",
              "      border-bottom-color: var(--fill-color);\n",
              "    }\n",
              "    90% {\n",
              "      border-color: transparent;\n",
              "      border-bottom-color: var(--fill-color);\n",
              "    }\n",
              "  }\n",
              "</style>\n",
              "\n",
              "  <script>\n",
              "    async function quickchart(key) {\n",
              "      const quickchartButtonEl =\n",
              "        document.querySelector('#' + key + ' button');\n",
              "      quickchartButtonEl.disabled = true;  // To prevent multiple clicks.\n",
              "      quickchartButtonEl.classList.add('colab-df-spinner');\n",
              "      try {\n",
              "        const charts = await google.colab.kernel.invokeFunction(\n",
              "            'suggestCharts', [key], {});\n",
              "      } catch (error) {\n",
              "        console.error('Error during call to suggestCharts:', error);\n",
              "      }\n",
              "      quickchartButtonEl.classList.remove('colab-df-spinner');\n",
              "      quickchartButtonEl.classList.add('colab-df-quickchart-complete');\n",
              "    }\n",
              "    (() => {\n",
              "      let quickchartButtonEl =\n",
              "        document.querySelector('#df-014e44c0-6704-4703-864c-d0ba9c52806d button');\n",
              "      quickchartButtonEl.style.display =\n",
              "        google.colab.kernel.accessAllowed ? 'block' : 'none';\n",
              "    })();\n",
              "  </script>\n",
              "</div>\n",
              "\n",
              "    </div>\n",
              "  </div>\n"
            ],
            "application/vnd.google.colaboratory.intrinsic+json": {
              "type": "dataframe",
              "summary": "{\n  \"name\": \"train_df\",\n  \"rows\": 5,\n  \"fields\": [\n    {\n      \"column\": \"count\",\n      \"properties\": {\n        \"dtype\": \"date\",\n        \"min\": \"573\",\n        \"max\": \"573\",\n        \"num_unique_values\": 1,\n        \"samples\": [\n          \"573\"\n        ],\n        \"semantic_type\": \"\",\n        \"description\": \"\"\n      }\n    },\n    {\n      \"column\": \"mean\",\n      \"properties\": {\n        \"dtype\": \"date\",\n        \"min\": \"1970-01-01 00:00:00\",\n        \"max\": \"2022-10-19 16:00:00\",\n        \"num_unique_values\": 5,\n        \"samples\": [\n          0.3106457242582897\n        ],\n        \"semantic_type\": \"\",\n        \"description\": \"\"\n      }\n    },\n    {\n      \"column\": \"min\",\n      \"properties\": {\n        \"dtype\": \"date\",\n        \"min\": \"1970-01-01 00:00:00\",\n        \"max\": \"2022-01-01 00:00:00\",\n        \"num_unique_values\": 5,\n        \"samples\": [\n          0.1\n        ],\n        \"semantic_type\": \"\",\n        \"description\": \"\"\n      }\n    },\n    {\n      \"column\": \"25%\",\n      \"properties\": {\n        \"dtype\": \"date\",\n        \"min\": \"1970-01-01 00:00:00\",\n        \"max\": \"2022-05-24 00:00:00\",\n        \"num_unique_values\": 5,\n        \"samples\": [\n          0.2\n        ],\n        \"semantic_type\": \"\",\n        \"description\": \"\"\n      }\n    },\n    {\n      \"column\": \"50%\",\n      \"properties\": {\n        \"dtype\": \"date\",\n        \"min\": \"1970-01-01 00:00:00\",\n        \"max\": \"2022-10-21 00:00:00\",\n        \"num_unique_values\": 5,\n        \"samples\": [\n          0.3\n        ],\n        \"semantic_type\": \"\",\n        \"description\": \"\"\n      }\n    },\n    {\n      \"column\": \"75%\",\n      \"properties\": {\n        \"dtype\": \"date\",\n        \"min\": \"1970-01-01 00:00:00\",\n        \"max\": \"2023-03-13 00:00:00\",\n        \"num_unique_values\": 5,\n        \"samples\": [\n          0.4\n        ],\n        \"semantic_type\": \"\",\n        \"description\": \"\"\n      }\n    },\n    {\n      \"column\": \"max\",\n      \"properties\": {\n        \"dtype\": \"date\",\n        \"min\": \"1970-01-01 00:00:00.000000002\",\n        \"max\": \"2023-08-06 00:00:00\",\n        \"num_unique_values\": 5,\n        \"samples\": [\n          2.6\n        ],\n        \"semantic_type\": \"\",\n        \"description\": \"\"\n      }\n    },\n    {\n      \"column\": \"std\",\n      \"properties\": {\n        \"dtype\": \"date\",\n        \"min\": 0.19461752468015342,\n        \"max\": 16.705889969189787,\n        \"num_unique_values\": 4,\n        \"samples\": [\n          2.3850768359109193\n        ],\n        \"semantic_type\": \"\",\n        \"description\": \"\"\n      }\n    }\n  ]\n}"
            }
          },
          "metadata": {},
          "execution_count": 20
        }
      ]
    },
    {
      "cell_type": "markdown",
      "source": [
        "Now we are going to plot the Date vs Daily Max 8-hour CO Concentration"
      ],
      "metadata": {
        "id": "ZyrlrC8CcPgZ"
      }
    },
    {
      "cell_type": "code",
      "source": [
        "import matplotlib.pyplot as plt\n",
        "\n",
        "# Plotting Time vs. Daily Max 8-hour CO Concentration\n",
        "plt.figure(figsize=(10, 6))\n",
        "#plt.plot(train_df['Time'], train_df['Daily Max 8-hour CO Concentration'], marker='o', linestyle='-', color='b')\n",
        "plt.plot(train_df['Date'], train_df['Daily Max 8-hour CO Concentration'], marker='o', linestyle='-', color='b')\n",
        "plt.title('Time vs. Daily Max 8-hour CO Concentration')\n",
        "plt.xlabel('Time (Days since January 1, 2022)')\n",
        "plt.ylabel('Daily Max 8-hour CO Concentration')\n",
        "plt.grid(True)\n",
        "plt.show()\n"
      ],
      "metadata": {
        "colab": {
          "base_uri": "https://localhost:8080/",
          "height": 564
        },
        "id": "3F3TBXbOZ7j9",
        "outputId": "02204a95-1cf6-4890-fc97-6fc5a9f90138"
      },
      "execution_count": null,
      "outputs": [
        {
          "output_type": "display_data",
          "data": {
            "text/plain": [
              "<Figure size 1000x600 with 1 Axes>"
            ],
            "image/png": "[encoded data removed]"
          },
          "metadata": {}
        }
      ]
    },
    {
      "cell_type": "code",
      "source": [
        "# Find the row with the highest CO concentration\n",
        "max_row = train_df.loc[train_df['Daily Max 8-hour CO Concentration'].idxmax()]\n",
        "\n",
        "# Extract the date and the maximum concentration\n",
        "max_date = max_row['Date']\n",
        "max_concentration = max_row['Daily Max 8-hour CO Concentration']\n",
        "\n",
        "# Print the result\n",
        "print(f\"The highest CO concentration is {max_concentration} and it occurred on {max_date}.\")\n"
      ],
      "metadata": {
        "colab": {
          "base_uri": "https://localhost:8080/"
        },
        "id": "dYBIOgKZcr7w",
        "outputId": "c2e55f2c-b9ae-4053-a2e2-77c2879d03fc"
      },
      "execution_count": null,
      "outputs": [
        {
          "output_type": "stream",
          "name": "stdout",
          "text": [
            "The highest CO concentration is 2.6 and it occurred on 2022-02-14 00:00:00.\n"
          ]
        }
      ]
    },
    {
      "cell_type": "markdown",
      "source": [
        "## Buscando Correlaciones"
      ],
      "metadata": {
        "id": "7TfURiBbnY9k"
      }
    },
    {
      "cell_type": "markdown",
      "source": [
        "La correlación indica la fuerza y dirección de una relación lineal entre dos variables. Una correlación alta (cercana a 1 o -1) sugiere que una variable puede ser un buen predictor de la otra."
      ],
      "metadata": {
        "id": "evr1cij2yUCS"
      }
    },
    {
      "cell_type": "code",
      "source": [
        "# Selecciona las columnas numéricas del DataFrame train_df\n",
        "numeric_columns = train_df.select_dtypes(include=[np.number])\n",
        "\n",
        "# Calcula la matriz de correlación de las columnas numéricas\n",
        "corr_matrix = numeric_columns.corr()\n",
        "\n",
        "# Ordena las correlaciones de la columna 'median_house_value' en orden descendente\n",
        "corr_matrix[\"Daily Max 8-hour CO Concentration\"].sort_values(ascending=False)\n"
      ],
      "metadata": {
        "colab": {
          "base_uri": "https://localhost:8080/",
          "height": 209
        },
        "id": "y2UgneGYncms",
        "outputId": "d8f2e181-996a-4652-9cc4-48d415cf73e2"
      },
      "execution_count": null,
      "outputs": [
        {
          "output_type": "execute_result",
          "data": {
            "text/plain": [
              "Daily Max 8-hour CO Concentration    1.000000\n",
              "Daily AQI Value                      0.993715\n",
              "Daily Obs Count                     -0.029979\n",
              "Percent Complete                    -0.030108\n",
              "Name: Daily Max 8-hour CO Concentration, dtype: float64"
            ],
            "text/html": [
              "<div>\n",
              "<style scoped>\n",
              "    .dataframe tbody tr th:only-of-type {\n",
              "        vertical-align: middle;\n",
              "    }\n",
              "\n",
              "    .dataframe tbody tr th {\n",
              "        vertical-align: top;\n",
              "    }\n",
              "\n",
              "    .dataframe thead th {\n",
              "        text-align: right;\n",
              "    }\n",
              "</style>\n",
              "<table border=\"1\" class=\"dataframe\">\n",
              "  <thead>\n",
              "    <tr style=\"text-align: right;\">\n",
              "      <th></th>\n",
              "      <th>Daily Max 8-hour CO Concentration</th>\n",
              "    </tr>\n",
              "  </thead>\n",
              "  <tbody>\n",
              "    <tr>\n",
              "      <th>Daily Max 8-hour CO Concentration</th>\n",
              "      <td>1.000000</td>\n",
              "    </tr>\n",
              "    <tr>\n",
              "      <th>Daily AQI Value</th>\n",
              "      <td>0.993715</td>\n",
              "    </tr>\n",
              "    <tr>\n",
              "      <th>Daily Obs Count</th>\n",
              "      <td>-0.029979</td>\n",
              "    </tr>\n",
              "    <tr>\n",
              "      <th>Percent Complete</th>\n",
              "      <td>-0.030108</td>\n",
              "    </tr>\n",
              "  </tbody>\n",
              "</table>\n",
              "</div><br><label><b>dtype:</b> float64</label>"
            ]
          },
          "metadata": {},
          "execution_count": 24
        }
      ]
    },
    {
      "cell_type": "markdown",
      "source": [
        "El valor diario del AQI tiene una correlación positiva muy alta (0.993743) con la concentración máxima diaria de CO en 8 horas. Esto indica que, a medida que aumenta la concentración máxima diaria de CO en 8 horas, el Índice de Calidad del Aire (AQI) también tiende a aumentar significativamente. Esto tiene sentido porque el AQI a menudo se deriva de las concentraciones de contaminantes como el CO."
      ],
      "metadata": {
        "id": "IZXkyQNCyvI2"
      }
    },
    {
      "cell_type": "markdown",
      "source": [
        "## Usando TimeFeatureAdder Class"
      ],
      "metadata": {
        "id": "w9wbnU6shBSa"
      }
    },
    {
      "cell_type": "markdown",
      "source": [
        "Usando Time-step features para el manejo de fechas, añadimos valores secuenciales a las fechas 0, 1, 2, 3, ... en una columna Time"
      ],
      "metadata": {
        "id": "WM4gh8WzH3Fg"
      }
    },
    {
      "cell_type": "markdown",
      "source": [
        "Primero, crearemos una clase de transformador que calcule la característica de Tiempo basada en la fecha de inicio que especifiques."
      ],
      "metadata": {
        "id": "CnGs7_hQhJQu"
      }
    },
    {
      "cell_type": "code",
      "source": [
        "from sklearn.base import BaseEstimator, TransformerMixin\n",
        "import numpy as np\n",
        "import pandas as pd\n",
        "\n",
        "class TimeFeatureAdder(BaseEstimator, TransformerMixin):\n",
        "    def __init__(self, start_date):\n",
        "        self.start_date = pd.to_datetime(start_date)\n",
        "\n",
        "    def fit(self, X, y=None):\n",
        "        return self\n",
        "\n",
        "    def transform(self, X):\n",
        "        X = X.copy()  # Avoid modifying the original data\n",
        "        X['Date'] = pd.to_datetime(X['Date'])  # Ensure 'Date' column is datetime\n",
        "        X['Time'] = (X['Date'] - self.start_date).dt.days\n",
        "        return X\n"
      ],
      "metadata": {
        "id": "5q1nd8FZzpIW"
      },
      "execution_count": null,
      "outputs": []
    },
    {
      "cell_type": "markdown",
      "source": [
        "Ejemplo de TimeFeatureAdder"
      ],
      "metadata": {
        "id": "HSLlkvpJkSk9"
      }
    },
    {
      "cell_type": "code",
      "source": [
        "import pandas as pd\n",
        "\n",
        "# Sample data\n",
        "example_data = {\n",
        "    'Date': ['2022-01-01', '2022-01-02', '2022-01-03', '2022-01-04', '2022-01-05'],\n",
        "    'Daily AQI Value': [1.0, 2.0, 2.0, 2.0, 6.0],\n",
        "    'other_features': [19.0, 24.0, 12.0, 4.0, 9.0]\n",
        "}\n",
        "\n",
        "# Initialize the transformer with the start date\n",
        "start_date = '2022-01-01'\n",
        "time_adder = TimeFeatureAdder(start_date=start_date)\n",
        "\n",
        "# Create DataFrame\n",
        "example_df = pd.DataFrame(example_data)\n",
        "# Apply the transformer to the sample data\n",
        "transformed_example_df = time_adder.transform(example_df)\n",
        "\n",
        "# Print the first five examples\n",
        "print(transformed_example_df.head())"
      ],
      "metadata": {
        "colab": {
          "base_uri": "https://localhost:8080/"
        },
        "id": "SUF5fiXBkXSw",
        "outputId": "f13092c9-ba56-46ce-e66c-feda61d9b46e"
      },
      "execution_count": null,
      "outputs": [
        {
          "output_type": "stream",
          "name": "stdout",
          "text": [
            "        Date  Daily AQI Value  other_features  Time\n",
            "0 2022-01-01              1.0            19.0     0\n",
            "1 2022-01-02              2.0            24.0     1\n",
            "2 2022-01-03              2.0            12.0     2\n",
            "3 2022-01-04              2.0             4.0     3\n",
            "4 2022-01-05              6.0             9.0     4\n"
          ]
        }
      ]
    },
    {
      "cell_type": "markdown",
      "source": [
        "## Initialize the Transformer with the Start Date"
      ],
      "metadata": {
        "id": "I2n8qI1vhMtt"
      }
    },
    {
      "cell_type": "code",
      "source": [
        "# Initialize the transformer with the start date\n",
        "start_date = '2022-01-01'\n",
        "time_adder = TimeFeatureAdder(start_date=start_date)\n"
      ],
      "metadata": {
        "id": "ifG7NCiuhP7x"
      },
      "execution_count": null,
      "outputs": []
    },
    {
      "cell_type": "code",
      "source": [
        "# Apply the transformer to your training data\n",
        "X_train = train_df[['Date', 'Daily AQI Value']]\n",
        "X_train = time_adder.transform(X_train)\n",
        "\n",
        "y_train = train_df['Daily Max 8-hour CO Concentration']\n",
        "\n",
        "# Apply the transformer to your testing data\n",
        "X_test = test_df[['Date', 'Daily AQI Value']]\n",
        "X_test = time_adder.transform(X_test)\n",
        "\n",
        "y_test = test_df['Daily Max 8-hour CO Concentration']\n"
      ],
      "metadata": {
        "id": "wHGtjJkphWfJ"
      },
      "execution_count": null,
      "outputs": []
    },
    {
      "cell_type": "code",
      "source": [
        "import pandas as pd\n",
        "import pickle\n",
        "\n",
        "# Train the linear regression model\n",
        "model = LinearRegression()\n",
        "model.fit(X_train[['Time', 'Daily AQI Value']], y_train)\n",
        "\n",
        "# Predict and evaluate\n",
        "predictions = model.predict(X_test[['Time', 'Daily AQI Value']])\n",
        "\n",
        "# Create a DataFrame to hold the Date, Time, Daily AQI Value, Actual Concentration, and Predictions\n",
        "results_df = pd.DataFrame({\n",
        "    'Date': X_test['Date'],  # Date from the test set\n",
        "    'Time': X_test['Time'],  # Time from the test set\n",
        "    'Daily AQI Value': X_test['Daily AQI Value'],  # Daily AQI Value from the test set\n",
        "    'Actual Concentration': y_test,  # Actual Concentration from the test set\n",
        "    'Predicted Concentration': predictions  # Predictions from the model\n",
        "})\n",
        "\n",
        "# Set display options for better formatting\n",
        "pd.set_option('display.max_columns', None)  # Display all columns\n",
        "pd.set_option('display.width', 1000)  # Set the width for better readability\n",
        "pd.set_option('display.float_format', '{:.8f}'.format)  # Format floating-point numbers\n",
        "\n",
        "# Print the DataFrame\n",
        "print(results_df.head(5))  # Print the first 10 rows for brevity\n",
        "\n",
        "# Save the trained model as a pickle file\n",
        "with open('linear_regression_model.pkl', 'wb') as file:\n",
        "    pickle.dump(model, file)\n"
      ],
      "metadata": {
        "colab": {
          "base_uri": "https://localhost:8080/"
        },
        "id": "BSBN0rA3hkIr",
        "outputId": "8c984649-6d7c-47d9-fe7b-56e026f6e0d4"
      },
      "execution_count": null,
      "outputs": [
        {
          "output_type": "stream",
          "name": "stdout",
          "text": [
            "          Date  Time  Daily AQI Value  Actual Concentration  Predicted Concentration\n",
            "573 2023-08-07   583                3            0.30000000               0.27437275\n",
            "574 2023-08-08   584                5            0.40000000               0.43643077\n",
            "575 2023-08-09   585                5            0.40000000               0.43641840\n",
            "576 2023-08-10   586                2            0.20000000               0.19330045\n",
            "577 2023-08-11   587                3            0.30000000               0.27432327\n"
          ]
        }
      ]
    },
    {
      "cell_type": "markdown",
      "source": [
        "Métricas"
      ],
      "metadata": {
        "id": "Njl-xUpyjI9Z"
      }
    },
    {
      "cell_type": "code",
      "source": [
        "from sklearn.metrics import mean_absolute_error, mean_squared_error, r2_score\n",
        "\n",
        "# Calculate metrics\n",
        "mae = mean_absolute_error(y_test, predictions)\n",
        "mse = mean_squared_error(y_test, predictions)\n",
        "rmse = mean_squared_error(y_test, predictions, squared=False)\n",
        "r2 = r2_score(y_test, predictions)\n",
        "\n",
        "print(f\"Mean Absolute Error: {mae}\")\n",
        "print(f\"Mean Squared Error: {mse}\")\n",
        "print(f\"Root Mean Squared Error(Error Cuadrático medio): {rmse}\")\n",
        "print(f\"R-squared: {r2}\")\n"
      ],
      "metadata": {
        "colab": {
          "base_uri": "https://localhost:8080/"
        },
        "id": "6Tm5UJ6HjIX4",
        "outputId": "66f4b88d-0ace-47ac-da1d-c71d2200b3ca"
      },
      "execution_count": null,
      "outputs": [
        {
          "output_type": "stream",
          "name": "stdout",
          "text": [
            "Mean Absolute Error: 0.02304062948371023\n",
            "Mean Squared Error: 0.0006727425782464749\n",
            "Root Mean Squared Error(Error Cuadrático medio): 0.025937281627928455\n",
            "R-squared: 0.958765658412347\n"
          ]
        }
      ]
    },
    {
      "cell_type": "markdown",
      "source": [
        "Error Absoluto Medio (MAE): 0.0231\n",
        "\n",
        "En este caso, en promedio, las predicciones del modelo se desvían en aproximadamente 0.0231 unidades del valor real de la Concentración Máxima Diaria de CO en 8 horas. Esto indica que las predicciones están bastante cerca de los valores reales.\n",
        "\n",
        "Error Cuadrático Medio (MSE): 0.00067\n",
        "\n",
        "El Error Cuadrático Medio es el promedio de las diferencias al cuadrado entre los valores predichos y los reales. Un MSE de 0.00067 sugiere que los errores son, en general, muy pequeños.\n",
        "\n",
        "Raíz del Error Cuadrático Medio (RMSE): 0.0259\n",
        "\n",
        "La Raíz del Error Cuadrático Medio es la raíz cuadrada del MSE. Un RMSE de 0.0259 indica que la magnitud típica del error es pequeña, lo que sugiere un buen rendimiento del modelo.\n",
        "\n",
        "Coeficiente de Determinación (R²): 0.959\n",
        "\n",
        "El coeficiente de determinación mide la proporción de la varianza en la variable dependiente (Concentración Máxima Diaria de CO en 8 horas) que es predecible a partir de las variables independientes (Tiempo y Valor Diario del AQI). Un valor de R² de 0.959 significa que aproximadamente el 95.9% de la variabilidad en la concentración de CO es explicada por tu modelo. Esto indica que tu modelo tiene un ajuste fuerte con los datos."
      ],
      "metadata": {
        "id": "XlXo354-jjcL"
      }
    },
    {
      "cell_type": "code",
      "source": [
        "import pandas as pd\n",
        "import pickle\n",
        "from datetime import datetime\n",
        "\n",
        "# Cargando el modelo\n",
        "with open('linear_regression_model.pkl', 'rb') as file:\n",
        "    loaded_model = pickle.load(file)\n",
        "\n",
        "# Definiendo la fecha de iniio\n",
        "start_date = '2022-01-01'  # start date\n",
        "time_feature_adder = TimeFeatureAdder(start_date=start_date)\n",
        "\n",
        "# Colocando datos de forma manual\n",
        "manual_data = {\n",
        "    'Date': ['2024-08-26'],\n",
        "    'Daily AQI Value': [1]\n",
        "}\n",
        "\n",
        "manual_input_df = pd.DataFrame(manual_data)\n",
        "\n",
        "manual_input_df = time_feature_adder.transform(manual_input_df)\n",
        "\n",
        "manual_prediction = loaded_model.predict(manual_input_df[['Time', 'Daily AQI Value']])\n",
        "\n",
        "manual_results_df = pd.DataFrame({\n",
        "    'Date': manual_input_df['Date'],  # Manual Date input\n",
        "    'Time': manual_input_df['Time'],  # Calculated Time based on Date\n",
        "    'Daily AQI Value': manual_input_df['Daily AQI Value'],  # Manual Daily AQI Value input\n",
        "    'Predicted Concentration': manual_prediction  # Prediction from the loaded model\n",
        "})\n",
        "\n",
        "pd.set_option('display.max_columns', None)  # Display all columns\n",
        "pd.set_option('display.width', 1000)  # Set the width for better readability\n",
        "pd.set_option('display.float_format', '{:.8f}'.format)  # Format floating-point numbers\n",
        "\n",
        "print(manual_results_df)\n"
      ],
      "metadata": {
        "colab": {
          "base_uri": "https://localhost:8080/"
        },
        "id": "NZUiNqYLLwYV",
        "outputId": "d2ff2f46-9c10-42ec-98fb-cfa52ab32ba9"
      },
      "execution_count": null,
      "outputs": [
        {
          "output_type": "stream",
          "name": "stdout",
          "text": [
            "        Date  Time  Daily AQI Value  Predicted Concentration\n",
            "0 2024-08-26   968                1               0.10753921\n"
          ]
        }
      ]
    },
    {
      "cell_type": "markdown",
      "source": [],
      "metadata": {
        "id": "hou-5882Z6Si"
      }
    }
  ]
}